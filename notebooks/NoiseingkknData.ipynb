{
 "cells": [
  {
   "cell_type": "markdown",
   "metadata": {},
   "source": [
    "Take Test AIS-Modellframe and add some noise"
   ]
  },
  {
   "cell_type": "code",
   "execution_count": 2,
   "metadata": {},
   "outputs": [],
   "source": [
    "import pandas as pd\n",
    "import sklearn as sk\n",
    "import numpy as np"
   ]
  },
  {
   "cell_type": "code",
   "execution_count": 3,
   "metadata": {},
   "outputs": [],
   "source": [
    "known = 3\n",
    "# train = pd.read_csv(f\"../workdir/AIS-ModelFrames/aisdk-2023-11-08-xs_2_kkn_train_{known}.csv\")\n",
    "test = pd.read_csv(f\"../workdir/AIS-ModelFrames/aisdk-2023-11-08-xs_2_kkn_test_{known}.csv\")"
   ]
  },
  {
   "cell_type": "code",
   "execution_count": 4,
   "metadata": {},
   "outputs": [],
   "source": [
    "# train_y = train.loc[:,[\"output_x\",\"output_y\"]]\n",
    "test_y = test.loc[:,[\"output_x\",\"output_y\"]]\n",
    "# train_x = train.drop(columns=[\"output_x\",\"output_y\"])\n",
    "test_x = test.drop(columns=[\"output_x\",\"output_y\"])"
   ]
  },
  {
   "cell_type": "code",
   "execution_count": 5,
   "metadata": {},
   "outputs": [
    {
     "data": {
      "text/html": [
       "<div>\n",
       "<style scoped>\n",
       "    .dataframe tbody tr th:only-of-type {\n",
       "        vertical-align: middle;\n",
       "    }\n",
       "\n",
       "    .dataframe tbody tr th {\n",
       "        vertical-align: top;\n",
       "    }\n",
       "\n",
       "    .dataframe thead th {\n",
       "        text-align: right;\n",
       "    }\n",
       "</style>\n",
       "<table border=\"1\" class=\"dataframe\">\n",
       "  <thead>\n",
       "    <tr style=\"text-align: right;\">\n",
       "      <th></th>\n",
       "      <th>input_0_time</th>\n",
       "      <th>input_0_x</th>\n",
       "      <th>input_0_y</th>\n",
       "      <th>input_1_time</th>\n",
       "      <th>input_1_x</th>\n",
       "      <th>input_1_y</th>\n",
       "      <th>input_2_time</th>\n",
       "      <th>input_2_x</th>\n",
       "      <th>input_2_y</th>\n",
       "      <th>output_x</th>\n",
       "      <th>output_y</th>\n",
       "    </tr>\n",
       "  </thead>\n",
       "  <tbody>\n",
       "    <tr>\n",
       "      <th>0</th>\n",
       "      <td>30.0</td>\n",
       "      <td>0.0</td>\n",
       "      <td>0.0</td>\n",
       "      <td>18.0</td>\n",
       "      <td>-6.1</td>\n",
       "      <td>24.4</td>\n",
       "      <td>10.0</td>\n",
       "      <td>-11.2</td>\n",
       "      <td>41.6</td>\n",
       "      <td>-16.1</td>\n",
       "      <td>62.8</td>\n",
       "    </tr>\n",
       "    <tr>\n",
       "      <th>1</th>\n",
       "      <td>22.0</td>\n",
       "      <td>0.0</td>\n",
       "      <td>0.0</td>\n",
       "      <td>12.0</td>\n",
       "      <td>-4.4</td>\n",
       "      <td>21.8</td>\n",
       "      <td>4.0</td>\n",
       "      <td>-4.4</td>\n",
       "      <td>21.8</td>\n",
       "      <td>-10.8</td>\n",
       "      <td>48.1</td>\n",
       "    </tr>\n",
       "    <tr>\n",
       "      <th>2</th>\n",
       "      <td>30.0</td>\n",
       "      <td>0.0</td>\n",
       "      <td>0.0</td>\n",
       "      <td>20.0</td>\n",
       "      <td>-7.3</td>\n",
       "      <td>19.1</td>\n",
       "      <td>10.0</td>\n",
       "      <td>-15.1</td>\n",
       "      <td>38.9</td>\n",
       "      <td>-22.5</td>\n",
       "      <td>57.9</td>\n",
       "    </tr>\n",
       "    <tr>\n",
       "      <th>3</th>\n",
       "      <td>30.0</td>\n",
       "      <td>0.0</td>\n",
       "      <td>0.0</td>\n",
       "      <td>20.0</td>\n",
       "      <td>-5.9</td>\n",
       "      <td>17.9</td>\n",
       "      <td>10.0</td>\n",
       "      <td>-11.7</td>\n",
       "      <td>34.8</td>\n",
       "      <td>-18.0</td>\n",
       "      <td>52.1</td>\n",
       "    </tr>\n",
       "    <tr>\n",
       "      <th>4</th>\n",
       "      <td>30.0</td>\n",
       "      <td>0.0</td>\n",
       "      <td>0.0</td>\n",
       "      <td>22.0</td>\n",
       "      <td>-5.9</td>\n",
       "      <td>14.6</td>\n",
       "      <td>12.0</td>\n",
       "      <td>-10.6</td>\n",
       "      <td>33.6</td>\n",
       "      <td>-17.5</td>\n",
       "      <td>57.0</td>\n",
       "    </tr>\n",
       "  </tbody>\n",
       "</table>\n",
       "</div>"
      ],
      "text/plain": [
       "   input_0_time  input_0_x  input_0_y  input_1_time  input_1_x  input_1_y  \\\n",
       "0          30.0        0.0        0.0          18.0       -6.1       24.4   \n",
       "1          22.0        0.0        0.0          12.0       -4.4       21.8   \n",
       "2          30.0        0.0        0.0          20.0       -7.3       19.1   \n",
       "3          30.0        0.0        0.0          20.0       -5.9       17.9   \n",
       "4          30.0        0.0        0.0          22.0       -5.9       14.6   \n",
       "\n",
       "   input_2_time  input_2_x  input_2_y  output_x  output_y  \n",
       "0          10.0      -11.2       41.6     -16.1      62.8  \n",
       "1           4.0       -4.4       21.8     -10.8      48.1  \n",
       "2          10.0      -15.1       38.9     -22.5      57.9  \n",
       "3          10.0      -11.7       34.8     -18.0      52.1  \n",
       "4          12.0      -10.6       33.6     -17.5      57.0  "
      ]
     },
     "execution_count": 5,
     "metadata": {},
     "output_type": "execute_result"
    }
   ],
   "source": [
    "test.head\n",
    "# len(test)\n",
    "# print(test.describe())\n",
    "# print(test[:10])#[\"input_0_time\"])\n",
    "test.head()"
   ]
  },
  {
   "cell_type": "code",
   "execution_count": 6,
   "metadata": {},
   "outputs": [],
   "source": [
    "import numpy as np\n",
    "def generate_noise(df, noise, known):\n",
    "\n",
    "    df = df.copy()\n",
    "    df[\"src\"] = \"output\"\n",
    "\n",
    "    #noise = np.random.normal(0, noise, len(test)*known)\n",
    "\n",
    "    noiseXY = [[0] * 2] * known\n",
    "\n",
    "    scaledNoiseLevel = noise / 10000\n",
    "\n",
    "    track = 0\n",
    "\n",
    "    while track < len(test):\n",
    "        i = 0\n",
    "        while i < known:\n",
    "            angle = np.random.uniform(0, 2 * np.pi)\n",
    "            noiseXY[i][0] = scaledNoiseLevel * np.cos(angle) # Offset - X\n",
    "            noiseXY[i][1] = scaledNoiseLevel * np.sin(angle) # Offset - Y\n",
    "            i = i + 1\n",
    "        \n",
    "        # i = 1\n",
    "        # while i < known:\n",
    "        #     df[\"input_{i}_x\"][track] = df[\"input_{i}_x\"][track] - noiseXY[0][0] + noiseXY[i][0]\n",
    "        #     df[\"input_{i}_y\"][track] = df[\"input_{i}_y\"][track] - noiseXY[0][1] + noiseXY[i][1]\n",
    "        #     i = i + 1\n",
    "\n",
    "        # df[\"output_x\"][track] = df[\"output_x\"][track] - noiseXY[0][0]\n",
    "        # df[\"output_y\"][track] = df[\"output_y\"][track] - noiseXY[0][1]\n",
    "        \n",
    "    track = track + 1\n",
    "    return df\n"
   ]
  },
  {
   "cell_type": "code",
   "execution_count": 7,
   "metadata": {},
   "outputs": [
    {
     "ename": "KeyboardInterrupt",
     "evalue": "",
     "output_type": "error",
     "traceback": [
      "\u001b[1;31m---------------------------------------------------------------------------\u001b[0m",
      "\u001b[1;31mKeyboardInterrupt\u001b[0m                         Traceback (most recent call last)",
      "Cell \u001b[1;32mIn[7], line 7\u001b[0m\n\u001b[0;32m      5\u001b[0m path \u001b[38;5;241m=\u001b[39m Path(\u001b[38;5;124mf\u001b[39m\u001b[38;5;124m\"\u001b[39m\u001b[38;5;124m../workdir/AIS-ModelFrames/aisdk-2023-11-08-xs_2_kkn_test_\u001b[39m\u001b[38;5;132;01m{\u001b[39;00mknown\u001b[38;5;132;01m}\u001b[39;00m\u001b[38;5;124m_\u001b[39m\u001b[38;5;132;01m{\u001b[39;00mnoise\u001b[38;5;132;01m}\u001b[39;00m\u001b[38;5;124m.csv\u001b[39m\u001b[38;5;124m\"\u001b[39m)\n\u001b[0;32m      6\u001b[0m \u001b[38;5;28;01mif\u001b[39;00m \u001b[38;5;129;01mnot\u001b[39;00m path\u001b[38;5;241m.\u001b[39mexists():     \n\u001b[1;32m----> 7\u001b[0m     test_model \u001b[38;5;241m=\u001b[39m \u001b[43mgenerate_noise\u001b[49m\u001b[43m(\u001b[49m\u001b[43mtest\u001b[49m\u001b[43m,\u001b[49m\u001b[43m \u001b[49m\u001b[43mnoise\u001b[49m\u001b[43m,\u001b[49m\u001b[43m \u001b[49m\u001b[43mknown\u001b[49m\u001b[43m)\u001b[49m\n\u001b[0;32m      8\u001b[0m     test_model\u001b[38;5;241m.\u001b[39mto_csv(path, index\u001b[38;5;241m=\u001b[39m\u001b[38;5;28;01mFalse\u001b[39;00m)\n\u001b[0;32m      9\u001b[0m     \u001b[38;5;28mprint\u001b[39m(\u001b[38;5;124mf\u001b[39m\u001b[38;5;124m\"\u001b[39m\u001b[38;5;124mDone with \u001b[39m\u001b[38;5;132;01m{\u001b[39;00mknown\u001b[38;5;132;01m}\u001b[39;00m\u001b[38;5;124m \u001b[39m\u001b[38;5;132;01m{\u001b[39;00mnoise\u001b[38;5;132;01m}\u001b[39;00m\u001b[38;5;124m\"\u001b[39m)\n",
      "Cell \u001b[1;32mIn[6], line 19\u001b[0m, in \u001b[0;36mgenerate_noise\u001b[1;34m(df, noise, known)\u001b[0m\n\u001b[0;32m     17\u001b[0m \u001b[38;5;28;01mwhile\u001b[39;00m i \u001b[38;5;241m<\u001b[39m known:\n\u001b[0;32m     18\u001b[0m     angle \u001b[38;5;241m=\u001b[39m np\u001b[38;5;241m.\u001b[39mrandom\u001b[38;5;241m.\u001b[39muniform(\u001b[38;5;241m0\u001b[39m, \u001b[38;5;241m2\u001b[39m \u001b[38;5;241m*\u001b[39m np\u001b[38;5;241m.\u001b[39mpi)\n\u001b[1;32m---> 19\u001b[0m     \u001b[43mnoiseXY\u001b[49m\u001b[43m[\u001b[49m\u001b[43mi\u001b[49m\u001b[43m]\u001b[49m[\u001b[38;5;241m0\u001b[39m] \u001b[38;5;241m=\u001b[39m scaledNoiseLevel \u001b[38;5;241m*\u001b[39m np\u001b[38;5;241m.\u001b[39mcos(angle) \u001b[38;5;66;03m# Offset - X\u001b[39;00m\n\u001b[0;32m     20\u001b[0m     noiseXY[i][\u001b[38;5;241m1\u001b[39m] \u001b[38;5;241m=\u001b[39m scaledNoiseLevel \u001b[38;5;241m*\u001b[39m np\u001b[38;5;241m.\u001b[39msin(angle) \u001b[38;5;66;03m# Offset - Y\u001b[39;00m\n\u001b[0;32m     21\u001b[0m     i \u001b[38;5;241m=\u001b[39m i \u001b[38;5;241m+\u001b[39m \u001b[38;5;241m1\u001b[39m\n",
      "\u001b[1;31mKeyboardInterrupt\u001b[0m: "
     ]
    }
   ],
   "source": [
    "import numpy as np\n",
    "from pathlib import Path\n",
    "noise_level = 0, 5, 10\n",
    "for noise in noise_level:\n",
    "    path = Path(f\"../workdir/AIS-ModelFrames/aisdk-2023-11-08-xs_2_kkn_test_{known}_{noise}.csv\")\n",
    "    if not path.exists():     \n",
    "        test_model = generate_noise(test, noise, known)\n",
    "        test_model.to_csv(path, index=False)\n",
    "        print(f\"Done with {known} {noise}\")"
   ]
  },
  {
   "cell_type": "code",
   "execution_count": null,
   "metadata": {},
   "outputs": [],
   "source": []
  }
 ],
 "metadata": {
  "kernelspec": {
   "display_name": "venv",
   "language": "python",
   "name": "python3"
  },
  "language_info": {
   "codemirror_mode": {
    "name": "ipython",
    "version": 3
   },
   "file_extension": ".py",
   "mimetype": "text/x-python",
   "name": "python",
   "nbconvert_exporter": "python",
   "pygments_lexer": "ipython3",
   "version": "3.9.13"
  }
 },
 "nbformat": 4,
 "nbformat_minor": 2
}
