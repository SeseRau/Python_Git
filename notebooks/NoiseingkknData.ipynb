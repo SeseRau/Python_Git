{
 "cells": [
  {
   "cell_type": "markdown",
   "metadata": {},
   "source": [
    "Take Test AIS-Modellframe and add some noise"
   ]
  },
  {
   "cell_type": "code",
   "execution_count": null,
   "metadata": {},
   "outputs": [],
   "source": [
    "# import sklearn as sk\n",
    "import numpy as np\n",
    "import pandas as pd\n",
    "\n",
    "known = 3 # 6, 9, 12\n",
    "# train = pd.read_csv(f\"../workdir/AIS-ModelFrames/aisdk-2023-11-08-xs_2_kkn_train_{known}.csv\")\n",
    "\n",
    "filename = \"aisTestFile_500k_kkn\"\n",
    "\n",
    "df = pd.read_csv(\"../workdir/AIS-ModelFrames/\"+filename+\"_test_\"+str(known)+\"_0.csv\")"
   ]
  },
  {
   "cell_type": "code",
   "execution_count": 7,
   "metadata": {},
   "outputs": [
    {
     "name": "stdout",
     "output_type": "stream",
     "text": [
      "589\n",
      "589\n"
     ]
    },
    {
     "data": {
      "text/html": [
       "<div>\n",
       "<style scoped>\n",
       "    .dataframe tbody tr th:only-of-type {\n",
       "        vertical-align: middle;\n",
       "    }\n",
       "\n",
       "    .dataframe tbody tr th {\n",
       "        vertical-align: top;\n",
       "    }\n",
       "\n",
       "    .dataframe thead th {\n",
       "        text-align: right;\n",
       "    }\n",
       "</style>\n",
       "<table border=\"1\" class=\"dataframe\">\n",
       "  <thead>\n",
       "    <tr style=\"text-align: right;\">\n",
       "      <th></th>\n",
       "      <th>input_0_time</th>\n",
       "      <th>input_0_x</th>\n",
       "      <th>input_0_y</th>\n",
       "      <th>input_1_time</th>\n",
       "      <th>input_1_x</th>\n",
       "      <th>input_1_y</th>\n",
       "      <th>input_2_time</th>\n",
       "      <th>input_2_x</th>\n",
       "      <th>input_2_y</th>\n",
       "      <th>output_x</th>\n",
       "      <th>output_y</th>\n",
       "    </tr>\n",
       "  </thead>\n",
       "  <tbody>\n",
       "    <tr>\n",
       "      <th>0</th>\n",
       "      <td>22.0</td>\n",
       "      <td>0.0</td>\n",
       "      <td>0.0</td>\n",
       "      <td>21.0</td>\n",
       "      <td>0.0</td>\n",
       "      <td>0.0</td>\n",
       "      <td>11.0</td>\n",
       "      <td>-0.1</td>\n",
       "      <td>0.3</td>\n",
       "      <td>0.0</td>\n",
       "      <td>0.5</td>\n",
       "    </tr>\n",
       "    <tr>\n",
       "      <th>1</th>\n",
       "      <td>20.0</td>\n",
       "      <td>0.0</td>\n",
       "      <td>0.0</td>\n",
       "      <td>10.0</td>\n",
       "      <td>0.4</td>\n",
       "      <td>0.1</td>\n",
       "      <td>1.0</td>\n",
       "      <td>0.6</td>\n",
       "      <td>0.3</td>\n",
       "      <td>0.6</td>\n",
       "      <td>0.3</td>\n",
       "    </tr>\n",
       "    <tr>\n",
       "      <th>2</th>\n",
       "      <td>30.0</td>\n",
       "      <td>0.0</td>\n",
       "      <td>0.0</td>\n",
       "      <td>19.0</td>\n",
       "      <td>0.0</td>\n",
       "      <td>0.5</td>\n",
       "      <td>11.0</td>\n",
       "      <td>-0.2</td>\n",
       "      <td>0.4</td>\n",
       "      <td>-0.8</td>\n",
       "      <td>0.2</td>\n",
       "    </tr>\n",
       "    <tr>\n",
       "      <th>3</th>\n",
       "      <td>20.0</td>\n",
       "      <td>0.0</td>\n",
       "      <td>0.0</td>\n",
       "      <td>19.0</td>\n",
       "      <td>0.0</td>\n",
       "      <td>0.0</td>\n",
       "      <td>9.0</td>\n",
       "      <td>-0.4</td>\n",
       "      <td>0.0</td>\n",
       "      <td>-0.4</td>\n",
       "      <td>-0.1</td>\n",
       "    </tr>\n",
       "    <tr>\n",
       "      <th>4</th>\n",
       "      <td>30.0</td>\n",
       "      <td>0.0</td>\n",
       "      <td>0.0</td>\n",
       "      <td>21.0</td>\n",
       "      <td>-0.6</td>\n",
       "      <td>0.3</td>\n",
       "      <td>11.0</td>\n",
       "      <td>-0.6</td>\n",
       "      <td>0.4</td>\n",
       "      <td>0.3</td>\n",
       "      <td>-0.2</td>\n",
       "    </tr>\n",
       "  </tbody>\n",
       "</table>\n",
       "</div>"
      ],
      "text/plain": [
       "   input_0_time  input_0_x  input_0_y  input_1_time  input_1_x  input_1_y  \\\n",
       "0          22.0        0.0        0.0          21.0        0.0        0.0   \n",
       "1          20.0        0.0        0.0          10.0        0.4        0.1   \n",
       "2          30.0        0.0        0.0          19.0        0.0        0.5   \n",
       "3          20.0        0.0        0.0          19.0        0.0        0.0   \n",
       "4          30.0        0.0        0.0          21.0       -0.6        0.3   \n",
       "\n",
       "   input_2_time  input_2_x  input_2_y  output_x  output_y  \n",
       "0          11.0       -0.1        0.3       0.0       0.5  \n",
       "1           1.0        0.6        0.3       0.6       0.3  \n",
       "2          11.0       -0.2        0.4      -0.8       0.2  \n",
       "3           9.0       -0.4        0.0      -0.4      -0.1  \n",
       "4          11.0       -0.6        0.4       0.3      -0.2  "
      ]
     },
     "execution_count": 7,
     "metadata": {},
     "output_type": "execute_result"
    }
   ],
   "source": [
    "# df.head()\n",
    "print(len(df.index))\n",
    "print(len(df))\n",
    "df.head()"
   ]
  },
  {
   "cell_type": "code",
   "execution_count": 8,
   "metadata": {},
   "outputs": [],
   "source": [
    "def generate_noise(df, known, noise):\n",
    "    df = df.copy()\n",
    "    i = 0\n",
    "    while i < (known+1):\n",
    "        range = np.random.normal(0, noise, len(df.index))\n",
    "\n",
    "        angles = np.random.uniform(0, 2 * np.pi, len(df.index))\n",
    "\n",
    "        # range = range.reshape(len(df.index), known+1)\n",
    "        # angles = angles.reshape(len(df.index), known+1)\n",
    "\n",
    "        # print(type(range))\n",
    "        # print(range.shape)\n",
    "\n",
    "        noiseFrame = pd.DataFrame(range, columns=['range']) \n",
    "        angleFrame = pd.DataFrame(angles, columns=['angle'])\n",
    "        noiseFrame = pd.concat([noiseFrame, angleFrame], axis=1)\n",
    "\n",
    "\n",
    "\n",
    "        noiseFrame[f\"noise-x-{str(i)}\"] = noiseFrame['range'] * np.cos(noiseFrame['angle']) # Offset - X\n",
    "        noiseFrame[f'noise-y-{str(i)}'] = noiseFrame['range'] * np.sin(noiseFrame['angle']) # Offset - Y\n",
    "        noiseFrame.drop(['range', 'angle'], axis=1, inplace=True)\n",
    "\n",
    "        if i == 0:\n",
    "            noiseFrame1 = noiseFrame\n",
    "        else:\n",
    "            noiseFrame1 = pd.concat([noiseFrame1, noiseFrame], axis=1)\n",
    "\n",
    "        i = i + 1 \n",
    "\n",
    "    #print(noise)\n",
    "    del noiseFrame\n",
    "    noiseFrame1.head()\n",
    "\n",
    "    i = 1\n",
    "    while i < (known):\n",
    "        df[f'input_{i}_x'] = df[f'input_{i}_x'] + noiseFrame1[f'noise-x-{i}'] - noiseFrame1['noise-x-0']\n",
    "        df[f'input_{i}_y'] = df[f'input_{i}_y'] + noiseFrame1[f'noise-y-{i}'] - noiseFrame1['noise-y-0']\n",
    "        i = i + 1\n",
    "    df[f'output_x'] = df['output_x'] + noiseFrame1[f'noise-y-{i}'] - noiseFrame1['noise-x-0']\n",
    "    df[f'output_y'] = df['output_y'] + noiseFrame1[f'noise-y-{i}'] - noiseFrame1['noise-y-0']\n",
    "\n",
    "    df.head()\n",
    "    return df\n"
   ]
  },
  {
   "cell_type": "code",
   "execution_count": 9,
   "metadata": {},
   "outputs": [
    {
     "name": "stdout",
     "output_type": "stream",
     "text": [
      "Done with 3 5\n",
      "Done with 3 10\n"
     ]
    }
   ],
   "source": [
    "import numpy as np\n",
    "from pathlib import Path\n",
    "noise_level = 0, 5, 10\n",
    "for noise in noise_level:\n",
    "    path = Path(f\"../workdir/AIS-ModelFrames/{filename}_test_{known}_{noise}.csv\")\n",
    "    if not path.exists():     \n",
    "        test_model = generate_noise(df, known, noise)\n",
    "        test_model.to_csv(path, index=False)\n",
    "        print(f\"Done with {known} {noise}\")"
   ]
  },
  {
   "cell_type": "code",
   "execution_count": null,
   "metadata": {},
   "outputs": [],
   "source": [
    "noiseFrame = pd.concat([noiseFrame, angleFrame], axis=1)\n",
    "noiseFrame.head()"
   ]
  },
  {
   "cell_type": "code",
   "execution_count": null,
   "metadata": {},
   "outputs": [],
   "source": [
    "def add_noise(df, noise_level):\n",
    "    noisy_df = df.copy()\n",
    "    for col in ['input_0_x', 'input_0_y', 'input_1_x', 'input_1_y', 'input_2_x', 'input_2_y', 'output_x', 'output_y']:\n",
    "        noise = np.random.normal(0, noise_level, size=len(df))\n",
    "        noisy_df[col] += noise\n",
    "    return noisy_df\n",
    "\n",
    "noise_level = 0.5  # specify the noise level\n",
    "noisy_df = add_noise(df, noise_level)\n",
    "noisy_df.head()"
   ]
  },
  {
   "cell_type": "code",
   "execution_count": 31,
   "metadata": {},
   "outputs": [
    {
     "name": "stdout",
     "output_type": "stream",
     "text": [
      "   input_0_time  input_0_x  input_0_y  input_1_time  input_1_x  input_1_y  \\\n",
      "2          30.0        0.0        0.0          19.0        0.0        0.5   \n",
      "\n",
      "   input_2_time  input_2_x  input_2_y  output_x  output_y  \n",
      "2          11.0       -0.2        0.4      -0.8       0.2  \n",
      "589\n"
     ]
    }
   ],
   "source": [
    "# test.head\n",
    "# len(test)\n",
    "# print(test.describe())\n",
    "# print(test[:10])#[\"input_0_time\"])\n",
    "print(test[2:3])\n",
    "#print(test[\"input_0_time\"]-test[\"input_0_time\"])\n",
    "print(len(test))"
   ]
  },
  {
   "cell_type": "code",
   "execution_count": 57,
   "metadata": {},
   "outputs": [
    {
     "name": "stdout",
     "output_type": "stream",
     "text": [
      "1\n"
     ]
    },
    {
     "ename": "KeyError",
     "evalue": "'input_{j}_time'",
     "output_type": "error",
     "traceback": [
      "\u001b[1;31m---------------------------------------------------------------------------\u001b[0m",
      "\u001b[1;31mKeyError\u001b[0m                                  Traceback (most recent call last)",
      "File \u001b[1;32mc:\\Dokumente\\Studium\\Jade-HS\\MA-ET\\Python-Git\\py-ma-git\\venv\\lib\\site-packages\\pandas\\core\\indexes\\base.py:3805\u001b[0m, in \u001b[0;36mIndex.get_loc\u001b[1;34m(self, key)\u001b[0m\n\u001b[0;32m   3804\u001b[0m \u001b[38;5;28;01mtry\u001b[39;00m:\n\u001b[1;32m-> 3805\u001b[0m     \u001b[38;5;28;01mreturn\u001b[39;00m \u001b[38;5;28;43mself\u001b[39;49m\u001b[38;5;241;43m.\u001b[39;49m\u001b[43m_engine\u001b[49m\u001b[38;5;241;43m.\u001b[39;49m\u001b[43mget_loc\u001b[49m\u001b[43m(\u001b[49m\u001b[43mcasted_key\u001b[49m\u001b[43m)\u001b[49m\n\u001b[0;32m   3806\u001b[0m \u001b[38;5;28;01mexcept\u001b[39;00m \u001b[38;5;167;01mKeyError\u001b[39;00m \u001b[38;5;28;01mas\u001b[39;00m err:\n",
      "File \u001b[1;32mindex.pyx:167\u001b[0m, in \u001b[0;36mpandas._libs.index.IndexEngine.get_loc\u001b[1;34m()\u001b[0m\n",
      "File \u001b[1;32mindex.pyx:196\u001b[0m, in \u001b[0;36mpandas._libs.index.IndexEngine.get_loc\u001b[1;34m()\u001b[0m\n",
      "File \u001b[1;32mpandas\\\\_libs\\\\hashtable_class_helper.pxi:7081\u001b[0m, in \u001b[0;36mpandas._libs.hashtable.PyObjectHashTable.get_item\u001b[1;34m()\u001b[0m\n",
      "File \u001b[1;32mpandas\\\\_libs\\\\hashtable_class_helper.pxi:7089\u001b[0m, in \u001b[0;36mpandas._libs.hashtable.PyObjectHashTable.get_item\u001b[1;34m()\u001b[0m\n",
      "\u001b[1;31mKeyError\u001b[0m: 'input_{j}_time'",
      "\nThe above exception was the direct cause of the following exception:\n",
      "\u001b[1;31mKeyError\u001b[0m                                  Traceback (most recent call last)",
      "Cell \u001b[1;32mIn[57], line 7\u001b[0m\n\u001b[0;32m      5\u001b[0m \u001b[38;5;28;01mwhile\u001b[39;00m j \u001b[38;5;241m<\u001b[39m known:\n\u001b[0;32m      6\u001b[0m     \u001b[38;5;28mprint\u001b[39m(j)\n\u001b[1;32m----> 7\u001b[0m     \u001b[38;5;28mprint\u001b[39m(\u001b[43mtest\u001b[49m\u001b[43m[\u001b[49m\u001b[38;5;124;43m\"\u001b[39;49m\u001b[38;5;124;43minput_\u001b[39;49m\u001b[38;5;132;43;01m{j}\u001b[39;49;00m\u001b[38;5;124;43m_time\u001b[39;49m\u001b[38;5;124;43m\"\u001b[39;49m\u001b[43m]\u001b[49m)\n\u001b[0;32m      8\u001b[0m     j \u001b[38;5;241m+\u001b[39m\u001b[38;5;241m=\u001b[39m \u001b[38;5;241m1\u001b[39m  \n",
      "File \u001b[1;32mc:\\Dokumente\\Studium\\Jade-HS\\MA-ET\\Python-Git\\py-ma-git\\venv\\lib\\site-packages\\pandas\\core\\frame.py:4102\u001b[0m, in \u001b[0;36mDataFrame.__getitem__\u001b[1;34m(self, key)\u001b[0m\n\u001b[0;32m   4100\u001b[0m \u001b[38;5;28;01mif\u001b[39;00m \u001b[38;5;28mself\u001b[39m\u001b[38;5;241m.\u001b[39mcolumns\u001b[38;5;241m.\u001b[39mnlevels \u001b[38;5;241m>\u001b[39m \u001b[38;5;241m1\u001b[39m:\n\u001b[0;32m   4101\u001b[0m     \u001b[38;5;28;01mreturn\u001b[39;00m \u001b[38;5;28mself\u001b[39m\u001b[38;5;241m.\u001b[39m_getitem_multilevel(key)\n\u001b[1;32m-> 4102\u001b[0m indexer \u001b[38;5;241m=\u001b[39m \u001b[38;5;28;43mself\u001b[39;49m\u001b[38;5;241;43m.\u001b[39;49m\u001b[43mcolumns\u001b[49m\u001b[38;5;241;43m.\u001b[39;49m\u001b[43mget_loc\u001b[49m\u001b[43m(\u001b[49m\u001b[43mkey\u001b[49m\u001b[43m)\u001b[49m\n\u001b[0;32m   4103\u001b[0m \u001b[38;5;28;01mif\u001b[39;00m is_integer(indexer):\n\u001b[0;32m   4104\u001b[0m     indexer \u001b[38;5;241m=\u001b[39m [indexer]\n",
      "File \u001b[1;32mc:\\Dokumente\\Studium\\Jade-HS\\MA-ET\\Python-Git\\py-ma-git\\venv\\lib\\site-packages\\pandas\\core\\indexes\\base.py:3812\u001b[0m, in \u001b[0;36mIndex.get_loc\u001b[1;34m(self, key)\u001b[0m\n\u001b[0;32m   3807\u001b[0m     \u001b[38;5;28;01mif\u001b[39;00m \u001b[38;5;28misinstance\u001b[39m(casted_key, \u001b[38;5;28mslice\u001b[39m) \u001b[38;5;129;01mor\u001b[39;00m (\n\u001b[0;32m   3808\u001b[0m         \u001b[38;5;28misinstance\u001b[39m(casted_key, abc\u001b[38;5;241m.\u001b[39mIterable)\n\u001b[0;32m   3809\u001b[0m         \u001b[38;5;129;01mand\u001b[39;00m \u001b[38;5;28many\u001b[39m(\u001b[38;5;28misinstance\u001b[39m(x, \u001b[38;5;28mslice\u001b[39m) \u001b[38;5;28;01mfor\u001b[39;00m x \u001b[38;5;129;01min\u001b[39;00m casted_key)\n\u001b[0;32m   3810\u001b[0m     ):\n\u001b[0;32m   3811\u001b[0m         \u001b[38;5;28;01mraise\u001b[39;00m InvalidIndexError(key)\n\u001b[1;32m-> 3812\u001b[0m     \u001b[38;5;28;01mraise\u001b[39;00m \u001b[38;5;167;01mKeyError\u001b[39;00m(key) \u001b[38;5;28;01mfrom\u001b[39;00m \u001b[38;5;21;01merr\u001b[39;00m\n\u001b[0;32m   3813\u001b[0m \u001b[38;5;28;01mexcept\u001b[39;00m \u001b[38;5;167;01mTypeError\u001b[39;00m:\n\u001b[0;32m   3814\u001b[0m     \u001b[38;5;66;03m# If we have a listlike key, _check_indexing_error will raise\u001b[39;00m\n\u001b[0;32m   3815\u001b[0m     \u001b[38;5;66;03m#  InvalidIndexError. Otherwise we fall through and re-raise\u001b[39;00m\n\u001b[0;32m   3816\u001b[0m     \u001b[38;5;66;03m#  the TypeError.\u001b[39;00m\n\u001b[0;32m   3817\u001b[0m     \u001b[38;5;28mself\u001b[39m\u001b[38;5;241m.\u001b[39m_check_indexing_error(key)\n",
      "\u001b[1;31mKeyError\u001b[0m: 'input_{j}_time'"
     ]
    }
   ],
   "source": [
    "# print(test.columns)\n",
    "# print(test[\"input_0_time\"])\n",
    "\n",
    "j = 1\n",
    "while j < known:\n",
    "    print(j)\n",
    "    print(test[\"input_{j}_time\"])\n",
    "    j += 1  \n"
   ]
  },
  {
   "cell_type": "code",
   "execution_count": 44,
   "metadata": {},
   "outputs": [],
   "source": [
    "import numpy as np\n",
    "def generate_noise(df, noise, known):\n",
    "\n",
    "    df = df.copy()\n",
    "    df[\"src\"] = \"output\"\n",
    "\n",
    "    scaledNoiseLevel = np.random.normal(0, noise, len(test)*known)\n",
    "    angles = np.random.uniform(0, 2 * np.pi, len(test)*known)\n",
    "\n",
    "\n",
    "    print(scaledNoiseLevel)\n",
    "    print(angles)\n",
    "\n",
    "\n",
    "    noiseXY = [[0] * 2] * known #* len(test)\n",
    "\n",
    "    #scaledNoiseLevel = noise #/ (len(test)*known)\n",
    "\n",
    "    track = 0\n",
    "\n",
    "    while track < len(test):\n",
    "        i = 0\n",
    "        j = 1\n",
    "        while i < known:\n",
    "            #angle = np.random.uniform(0, 2 * np.pi)\n",
    "            # noiseXY[i][0] = scaledNoiseLevel * np.cos(angle) # Offset - X\n",
    "            # noiseXY[i][1] = scaledNoiseLevel * np.sin(angle) # Offset - Y\n",
    "\n",
    "            noiseXY[i][0] = scaledNoiseLevel[track*known+i] * np.cos(angles[track*known+i]) # Offset - X\n",
    "            noiseXY[i][1] = scaledNoiseLevel[track*known+i] * np.sin(angles[track*known+i]) # Offset - Y\n",
    "            i = i + 1\n",
    "\n",
    "        while j < known:\n",
    "            df[\"input_{j}_x\"][track] = df[\"input_{j}_x\"][track] - noiseXY[j][0] - noiseXY[0][0]\n",
    "            df[\"input_{j}_y\"][track] = df[\"input_{j}_y\"][track] - noiseXY[j][1] - noiseXY[0][0]\n",
    "            j = j + 1\n",
    "        \n",
    "        # i = 1\n",
    "        # while i < known:\n",
    "        #     df[\"input_{i}_x\"][track] = df[\"input_{i}_x\"][track] - noiseXY[0][0] + noiseXY[i][0]\n",
    "        #     df[\"input_{i}_y\"][track] = df[\"input_{i}_y\"][track] - noiseXY[0][1] + noiseXY[i][1]\n",
    "        #     i = i + 1\n",
    "\n",
    "        # df[\"output_x\"][track] = df[\"output_x\"][track] - noiseXY[0][0]\n",
    "        # df[\"output_y\"][track] = df[\"output_y\"][track] - noiseXY[0][1]\n",
    "\n",
    "    df[\"output_x\"] = df[\"output_x\"] - noiseXY[known-1][0] - noiseXY[0][0]\n",
    "    df[\"output_y\"] = df[\"output_y\"] - noiseXY[known-1][1] - noiseXY[0][0]\n",
    "\n",
    "        \n",
    "    track = track + 1\n",
    "    return df\n",
    "\n",
    "# def generate_model_frame(df, knowns):\n",
    "#     # window_size = knowns + 1\n",
    "#     # skipped_windows = 0\n",
    "\n",
    "#     # windows = df.reset_index(drop=False).groupby('track').rolling(window_size)\n",
    "#     # windows = (win for i, win in enumerate(windows) if len(win) == window_size and i % (skipped_windows + 1) == 0)\n",
    "#     # windows = list(windows)\n",
    "#     res = Parallel(n_jobs=-1)(delayed(generate_noise)(win) for win in tqdm(windows))\n",
    "#     #res = (generate_row(win) for win in tqdm(windows))\n",
    "#     return pd.concat(res, ignore_index=True)\n"
   ]
  },
  {
   "cell_type": "code",
   "execution_count": null,
   "metadata": {},
   "outputs": [],
   "source": []
  }
 ],
 "metadata": {
  "kernelspec": {
   "display_name": "venv",
   "language": "python",
   "name": "python3"
  },
  "language_info": {
   "codemirror_mode": {
    "name": "ipython",
    "version": 3
   },
   "file_extension": ".py",
   "mimetype": "text/x-python",
   "name": "python",
   "nbconvert_exporter": "python",
   "pygments_lexer": "ipython3",
   "version": "3.9.13"
  }
 },
 "nbformat": 4,
 "nbformat_minor": 2
}
