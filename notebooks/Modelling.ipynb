{
 "cells": [
  {
   "cell_type": "code",
   "execution_count": 1,
   "metadata": {},
   "outputs": [
    {
     "name": "stdout",
     "output_type": "stream",
     "text": [
      "Hi\n"
     ]
    }
   ],
   "source": [
    "print('Hi')"
   ]
  },
  {
   "cell_type": "markdown",
   "metadata": {},
   "source": [
    "# Modelling"
   ]
  },
  {
   "cell_type": "code",
   "execution_count": 2,
   "metadata": {},
   "outputs": [],
   "source": [
    "import pandas as pd\n",
    "import sklearn as sk"
   ]
  },
  {
   "cell_type": "code",
   "execution_count": 3,
   "metadata": {},
   "outputs": [],
   "source": [
    "known = 3\n",
    "train = pd.read_csv(f\"../workdir/AIS-ModelFrames/aisdk-2023-11-08-xs_2_kkn_train_{known}.csv\")\n",
    "test = pd.read_csv(f\"../workdir/AIS-ModelFrames/aisdk-2023-11-08-xs_2_kkn_test_{known}.csv\")"
   ]
  },
  {
   "cell_type": "code",
   "execution_count": 4,
   "metadata": {},
   "outputs": [],
   "source": [
    "train_y = train.loc[:,[\"output_x\",\"output_y\"]]\n",
    "test_y = test.loc[:,[\"output_x\",\"output_y\"]]\n",
    "train_x = train.drop(columns=[\"output_x\",\"output_y\"])\n",
    "test_x = test.drop(columns=[\"output_x\",\"output_y\"])"
   ]
  },
  {
   "cell_type": "code",
   "execution_count": 5,
   "metadata": {},
   "outputs": [
    {
     "data": {
      "text/html": [
       "<div>\n",
       "<style scoped>\n",
       "    .dataframe tbody tr th:only-of-type {\n",
       "        vertical-align: middle;\n",
       "    }\n",
       "\n",
       "    .dataframe tbody tr th {\n",
       "        vertical-align: top;\n",
       "    }\n",
       "\n",
       "    .dataframe thead th {\n",
       "        text-align: right;\n",
       "    }\n",
       "</style>\n",
       "<table border=\"1\" class=\"dataframe\">\n",
       "  <thead>\n",
       "    <tr style=\"text-align: right;\">\n",
       "      <th></th>\n",
       "      <th>input_0_time</th>\n",
       "      <th>input_0_x</th>\n",
       "      <th>input_0_y</th>\n",
       "      <th>input_1_time</th>\n",
       "      <th>input_1_x</th>\n",
       "      <th>input_1_y</th>\n",
       "      <th>input_2_time</th>\n",
       "      <th>input_2_x</th>\n",
       "      <th>input_2_y</th>\n",
       "    </tr>\n",
       "  </thead>\n",
       "  <tbody>\n",
       "    <tr>\n",
       "      <th>0</th>\n",
       "      <td>22.0</td>\n",
       "      <td>0.0</td>\n",
       "      <td>0.0</td>\n",
       "      <td>21.0</td>\n",
       "      <td>0.0</td>\n",
       "      <td>0.0</td>\n",
       "      <td>11.0</td>\n",
       "      <td>0.1</td>\n",
       "      <td>0.3</td>\n",
       "    </tr>\n",
       "    <tr>\n",
       "      <th>1</th>\n",
       "      <td>20.0</td>\n",
       "      <td>0.0</td>\n",
       "      <td>0.0</td>\n",
       "      <td>10.0</td>\n",
       "      <td>-0.4</td>\n",
       "      <td>0.1</td>\n",
       "      <td>1.0</td>\n",
       "      <td>-0.6</td>\n",
       "      <td>0.3</td>\n",
       "    </tr>\n",
       "    <tr>\n",
       "      <th>2</th>\n",
       "      <td>30.0</td>\n",
       "      <td>0.0</td>\n",
       "      <td>0.0</td>\n",
       "      <td>19.0</td>\n",
       "      <td>0.0</td>\n",
       "      <td>0.5</td>\n",
       "      <td>11.0</td>\n",
       "      <td>0.2</td>\n",
       "      <td>0.4</td>\n",
       "    </tr>\n",
       "    <tr>\n",
       "      <th>3</th>\n",
       "      <td>20.0</td>\n",
       "      <td>0.0</td>\n",
       "      <td>0.0</td>\n",
       "      <td>19.0</td>\n",
       "      <td>0.0</td>\n",
       "      <td>0.0</td>\n",
       "      <td>9.0</td>\n",
       "      <td>0.4</td>\n",
       "      <td>0.0</td>\n",
       "    </tr>\n",
       "    <tr>\n",
       "      <th>4</th>\n",
       "      <td>30.0</td>\n",
       "      <td>0.0</td>\n",
       "      <td>0.0</td>\n",
       "      <td>21.0</td>\n",
       "      <td>0.6</td>\n",
       "      <td>0.3</td>\n",
       "      <td>11.0</td>\n",
       "      <td>0.6</td>\n",
       "      <td>0.4</td>\n",
       "    </tr>\n",
       "  </tbody>\n",
       "</table>\n",
       "</div>"
      ],
      "text/plain": [
       "   input_0_time  input_0_x  input_0_y  input_1_time  input_1_x  input_1_y  \\\n",
       "0          22.0        0.0        0.0          21.0        0.0        0.0   \n",
       "1          20.0        0.0        0.0          10.0       -0.4        0.1   \n",
       "2          30.0        0.0        0.0          19.0        0.0        0.5   \n",
       "3          20.0        0.0        0.0          19.0        0.0        0.0   \n",
       "4          30.0        0.0        0.0          21.0        0.6        0.3   \n",
       "\n",
       "   input_2_time  input_2_x  input_2_y  \n",
       "0          11.0        0.1        0.3  \n",
       "1           1.0       -0.6        0.3  \n",
       "2          11.0        0.2        0.4  \n",
       "3           9.0        0.4        0.0  \n",
       "4          11.0        0.6        0.4  "
      ]
     },
     "execution_count": 5,
     "metadata": {},
     "output_type": "execute_result"
    }
   ],
   "source": [
    "train_x.head()"
   ]
  },
  {
   "cell_type": "markdown",
   "metadata": {},
   "source": [
    "## Baseline Testing"
   ]
  },
  {
   "cell_type": "code",
   "execution_count": 9,
   "metadata": {},
   "outputs": [],
   "source": [
    "from sklearn.metrics import mean_squared_error\n",
    "import numpy as np"
   ]
  },
  {
   "cell_type": "code",
   "execution_count": 10,
   "metadata": {},
   "outputs": [
    {
     "data": {
      "text/plain": [
       "28.03777274689314"
      ]
     },
     "execution_count": 10,
     "metadata": {},
     "output_type": "execute_result"
    }
   ],
   "source": [
    "dummy_prediction = test_x.loc[:,[\"input_2_x\", \"input_2_y\"]]\n",
    "np.sqrt(mean_squared_error(test_y, dummy_prediction))"
   ]
  },
  {
   "cell_type": "markdown",
   "metadata": {},
   "source": [
    "## Linear Regression\n",
    "\n",
    "Funktionierende Modelle:\n",
    "https://scikit-learn.org/1.5/modules/multiclass.html#multioutput-regression"
   ]
  },
  {
   "cell_type": "code",
   "execution_count": 11,
   "metadata": {},
   "outputs": [
    {
     "data": {
      "text/plain": [
       "11.249805533936936"
      ]
     },
     "execution_count": 11,
     "metadata": {},
     "output_type": "execute_result"
    }
   ],
   "source": [
    "from sklearn.preprocessing import StandardScaler\n",
    "from sklearn.pipeline import Pipeline\n",
    "from sklearn.linear_model import LinearRegression\n",
    "\n",
    "linearpipe = Pipeline([(\"scaler\", StandardScaler()), (\"regressor\", LinearRegression())])\n",
    "linearpipe.fit(train_x, train_y)\n",
    "\n",
    "np.sqrt(mean_squared_error(test_y, linearpipe.predict(test_x)))"
   ]
  },
  {
   "cell_type": "markdown",
   "metadata": {},
   "source": [
    "## Neural Network\n",
    "\n",
    "https://scikit-learn.org/dev/modules/generated/sklearn.neural_network.MLPRegressor.html"
   ]
  },
  {
   "cell_type": "code",
   "execution_count": 17,
   "metadata": {},
   "outputs": [
    {
     "name": "stderr",
     "output_type": "stream",
     "text": [
      "/home/sebastian/Dokumente/Python-Git/py-ma-git/venv/lib/python3.9/site-packages/sklearn/neural_network/_multilayer_perceptron.py:619: UserWarning: Training interrupted by user.\n",
      "  warnings.warn(\"Training interrupted by user.\")\n"
     ]
    },
    {
     "data": {
      "text/plain": [
       "4.723033961778769"
      ]
     },
     "execution_count": 17,
     "metadata": {},
     "output_type": "execute_result"
    }
   ],
   "source": [
    "from sklearn.neural_network import MLPRegressor\n",
    "\n",
    "mlppipe = Pipeline([(\"scaler\", StandardScaler()), (\"regressor\", MLPRegressor((50)))])\n",
    "mlppipe.fit(train_x, train_y)\n",
    "\n",
    "np.sqrt(mean_squared_error(test_y, mlppipe.predict(test_x)))"
   ]
  },
  {
   "cell_type": "markdown",
   "metadata": {},
   "source": [
    "## AutoSklearn   \n"
   ]
  },
  {
   "cell_type": "code",
   "execution_count": 14,
   "metadata": {},
   "outputs": [
    {
     "name": "stdout",
     "output_type": "stream",
     "text": [
      "[WARNING] [2024-10-20 21:21:30,080:Client-AutoML(1):diabetes] Time limit for a single run is higher than total time limit. Capping the limit for a single run to the total time given to SMAC (119.109182)\n",
      "[WARNING] [2024-10-20 21:21:30,080:Client-AutoML(1):diabetes] Capping the per_run_time_limit to 59.0 to have time for a least 2 models in each process.\n",
      "[WARNING] [2024-10-20 21:21:30,271:Client-AutoMLSMBO(1)::diabetes] Could not find meta-data directory /home/sebastian/Dokumente/Python-Git/py-ma-git/venv/lib/python3.9/site-packages/autosklearn/metalearning/files/mean_squared_error_multioutput.regression_dense\n",
      "[WARNING] [2024-10-20 21:21:32,985:Client-EnsembleBuilder] No runs were available to build an ensemble from\n",
      "[WARNING] [2024-10-20 21:21:36,721:Client-EnsembleBuilder] No runs were available to build an ensemble from\n",
      "[WARNING] [2024-10-20 21:21:40,505:Client-EnsembleBuilder] No runs were available to build an ensemble from\n",
      "{17: {'model_id': 17, 'rank': 1, 'cost': 26.27048350833645, 'ensemble_weight': 0.98, 'data_preprocessor': <autosklearn.pipeline.components.data_preprocessing.DataPreprocessorChoice object at 0x7f0c56fc6a00>, 'feature_preprocessor': <autosklearn.pipeline.components.feature_preprocessing.FeaturePreprocessorChoice object at 0x7f0c56dc2fa0>, 'regressor': <autosklearn.pipeline.components.regression.RegressorChoice object at 0x7f0c56d533d0>, 'sklearn_regressor': DecisionTreeRegressor(max_depth=28, min_samples_leaf=3, min_samples_split=20,\n",
      "                      random_state=1)}, 21: {'model_id': 21, 'rank': 2, 'cost': 275.574630267192, 'ensemble_weight': 0.02, 'data_preprocessor': <autosklearn.pipeline.components.data_preprocessing.DataPreprocessorChoice object at 0x7f0c56e33f10>, 'feature_preprocessor': <autosklearn.pipeline.components.feature_preprocessing.FeaturePreprocessorChoice object at 0x7f0c561f9100>, 'regressor': <autosklearn.pipeline.components.regression.RegressorChoice object at 0x7f0c561f9af0>, 'sklearn_regressor': DecisionTreeRegressor(criterion='friedman_mse', max_depth=7, min_samples_leaf=6,\n",
      "                      min_samples_split=14, random_state=1)}}\n"
     ]
    }
   ],
   "source": [
    "from autosklearn.regression import AutoSklearnRegressor\n",
    "import autosklearn.metrics\n",
    "automl = AutoSklearnRegressor(\n",
    "    time_left_for_this_task=120, memory_limit=100*1024, n_jobs=-1, metric=autosklearn.metrics.mean_squared_error\n",
    "    )\n",
    "automl.fit(train_x, train_y, dataset_name=f'known{known}')\n",
    "\n",
    "ensemble_dict = automl.show_models()\n",
    "print(ensemble_dict)"
   ]
  },
  {
   "cell_type": "code",
   "execution_count": 16,
   "metadata": {},
   "outputs": [
    {
     "data": {
      "text/plain": [
       "8.03343198905138"
      ]
     },
     "execution_count": 16,
     "metadata": {},
     "output_type": "execute_result"
    }
   ],
   "source": [
    "np.sqrt(mean_squared_error(test_y, automl.predict(test_x)))"
   ]
  },
  {
   "cell_type": "code",
   "execution_count": null,
   "metadata": {},
   "outputs": [],
   "source": []
  }
 ],
 "metadata": {
  "kernelspec": {
   "display_name": "venv",
   "language": "python",
   "name": "python3"
  },
  "language_info": {
   "codemirror_mode": {
    "name": "ipython",
    "version": 3
   },
   "file_extension": ".py",
   "mimetype": "text/x-python",
   "name": "python",
   "nbconvert_exporter": "python",
   "pygments_lexer": "ipython3",
   "version": "3.9.13"
  }
 },
 "nbformat": 4,
 "nbformat_minor": 2
}
