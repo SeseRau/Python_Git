{
 "cells": [
  {
   "cell_type": "code",
   "execution_count": 1,
   "metadata": {},
   "outputs": [],
   "source": [
    "import pandas as pd\n"
   ]
  },
  {
   "cell_type": "markdown",
   "metadata": {},
   "source": [
    "# Initial Data Analysis"
   ]
  },
  {
   "cell_type": "code",
   "execution_count": 42,
   "metadata": {},
   "outputs": [],
   "source": [
    "renamedict = {'# Timestamp':\"timestamp\", 'MMSI':\"mmsi\", 'Latitude':\"lat\", 'Longitude':\"long\", 'Type of mobile':'type_of_mobile'}\n",
    "data = pd.read_csv('../workdir/aisdk-2023-11-08-xs.csv').rename(columns=renamedict).loc[:,list(renamedict.values())]\n",
    "data['timestamp'] = pd.to_datetime(data['timestamp'], format='%d/%m/%Y %H:%M:%S')\n",
    "# Nur Class A\n",
    "data = data[(data['type_of_mobile'] == \"Class A\") & (data['lat'] <= 90)].drop(columns=\"type_of_mobile\").copy()\n",
    "data.head()"
   ]
  },
  {
   "cell_type": "code",
   "execution_count": 43,
   "metadata": {},
   "outputs": [],
   "source": [
    "data.info()"
   ]
  },
  {
   "cell_type": "code",
   "execution_count": 44,
   "metadata": {},
   "outputs": [],
   "source": [
    "data.describe()"
   ]
  },
  {
   "cell_type": "code",
   "execution_count": 45,
   "metadata": {},
   "outputs": [],
   "source": [
    "print(f\"Anzahl Schiffe: {data['mmsi'].nunique()}\")"
   ]
  },
  {
   "cell_type": "code",
   "execution_count": 48,
   "metadata": {},
   "outputs": [],
   "source": [
    "shipagg = data.groupby('mmsi').agg(timerange=pd.NamedAgg(column=\"timestamp\", aggfunc=lambda col:col.max()-col.min()))\n",
    "shipagg.head()"
   ]
  },
  {
   "cell_type": "code",
   "execution_count": null,
   "metadata": {},
   "outputs": [],
   "source": []
  },
  {
   "cell_type": "code",
   "execution_count": 1,
   "metadata": {},
   "outputs": [],
   "source": [
    "import pandas as pd\n"
   ]
  },
  {
   "cell_type": "code",
   "execution_count": 26,
   "metadata": {},
   "outputs": [],
   "source": [
    "pd.read_csv('../workdir/aisdk-2023-11-08-xs.csv').columns"
   ]
  },
  {
   "cell_type": "markdown",
   "metadata": {},
   "source": [
    "# Initial Data Analysis"
   ]
  },
  {
   "cell_type": "code",
   "execution_count": 42,
   "metadata": {},
   "outputs": [],
   "source": [
    "renamedict = {'# Timestamp':\"timestamp\", 'MMSI':\"mmsi\", 'Latitude':\"lat\", 'Longitude':\"long\", 'Type of mobile':'type_of_mobile'}\n",
    "data = pd.read_csv('../workdir/aisdk-2023-11-08-xs.csv').rename(columns=renamedict).loc[:,list(renamedict.values())]\n",
    "data['timestamp'] = pd.to_datetime(data['timestamp'], format='%d/%m/%Y %H:%M:%S')\n",
    "# Nur Class A\n",
    "data = data[(data['type_of_mobile'] == \"Class A\") & (data['lat'] <= 90)].drop(columns=\"type_of_mobile\").copy()\n",
    "data.head()"
   ]
  },
  {
   "cell_type": "code",
   "execution_count": 43,
   "metadata": {},
   "outputs": [],
   "source": [
    "data.info()"
   ]
  },
  {
   "cell_type": "code",
   "execution_count": 44,
   "metadata": {},
   "outputs": [],
   "source": [
    "data.describe()"
   ]
  },
  {
   "cell_type": "code",
   "execution_count": 45,
   "metadata": {},
   "outputs": [],
   "source": [
    "print(f\"Anzahl Schiffe: {data['mmsi'].nunique()}\")\n",
    "pointspership = data.groupby('mmsi').size()\n",
    "print(pointspership.describe())"
   ]
  },
  {
   "cell_type": "code",
   "execution_count": 48,
   "metadata": {},
   "outputs": [],
   "source": [
    "shipagg = data.groupby('mmsi').agg(timerange=pd.NamedAgg(column=\"timestamp\", aggfunc=lambda col:col.max()-col.min()))\n",
    "shipagg.head()"
   ]
  },
  {
   "cell_type": "code",
   "execution_count": 23,
   "metadata": {},
   "outputs": [],
   "source": [
    "shipagg.loc[:, ('timestamp', 'min')]"
   ]
  },
  {
   "cell_type": "code",
   "execution_count": null,
   "metadata": {},
   "outputs": [],
   "source": []
  },
  {
   "cell_type": "code",
   "execution_count": 1,
   "metadata": {},
   "outputs": [],
   "source": [
    "import pandas as pd\n"
   ]
  },
  {
   "cell_type": "code",
   "execution_count": 26,
   "metadata": {},
   "outputs": [],
   "source": [
    "pd.read_csv('../workdir/aisdk-2023-11-08-xs.csv').columns"
   ]
  },
  {
   "cell_type": "markdown",
   "metadata": {},
   "source": [
    "# Initial Data Analysis"
   ]
  },
  {
   "cell_type": "code",
   "execution_count": 42,
   "metadata": {},
   "outputs": [],
   "source": [
    "renamedict = {'# Timestamp':\"timestamp\", 'MMSI':\"mmsi\", 'Latitude':\"lat\", 'Longitude':\"long\", 'Type of mobile':'type_of_mobile'}\n",
    "data = pd.read_csv('../workdir/aisdk-2023-11-08-xs.csv').rename(columns=renamedict).loc[:,list(renamedict.values())]\n",
    "data['timestamp'] = pd.to_datetime(data['timestamp'], format='%d/%m/%Y %H:%M:%S')\n",
    "# Nur Class A\n",
    "data = data[(data['type_of_mobile'] == \"Class A\") & (data['lat'] <= 90)].drop(columns=\"type_of_mobile\").copy()\n",
    "data.head()"
   ]
  },
  {
   "cell_type": "code",
   "execution_count": 43,
   "metadata": {},
   "outputs": [],
   "source": [
    "data.info()"
   ]
  },
  {
   "cell_type": "code",
   "execution_count": 44,
   "metadata": {},
   "outputs": [],
   "source": [
    "data.describe()"
   ]
  },
  {
   "cell_type": "code",
   "execution_count": 45,
   "metadata": {},
   "outputs": [],
   "source": [
    "print(f\"Anzahl Schiffe: {data['mmsi'].nunique()}\")\n",
    "pointspership = data.groupby('mmsi').size()\n",
    "print(pointspership.describe())"
   ]
  },
  {
   "cell_type": "code",
   "execution_count": 48,
   "metadata": {},
   "outputs": [],
   "source": [
    "shipagg = data.groupby('mmsi').agg(timerange=pd.NamedAgg(column=\"timestamp\", aggfunc=lambda col:col.max()-col.min()))\n",
    "shipagg.head()"
   ]
  },
  {
   "cell_type": "code",
   "execution_count": 23,
   "metadata": {},
   "outputs": [],
   "source": [
    "shipagg.loc[:, ('timestamp', 'min')]"
   ]
  },
  {
   "cell_type": "code",
   "execution_count": null,
   "metadata": {},
   "outputs": [],
   "source": []
  },
  {
   "cell_type": "code",
   "execution_count": 1,
   "metadata": {},
   "outputs": [],
   "source": [
    "import pandas as pd\n"
   ]
  },
  {
   "cell_type": "code",
   "execution_count": 26,
   "metadata": {},
   "outputs": [],
   "source": [
    "pd.read_csv('../workdir/aisdk-2023-11-08-xs.csv').columns"
   ]
  },
  {
   "cell_type": "markdown",
   "metadata": {},
   "source": [
    "# Initial Data Analysis"
   ]
  },
  {
   "cell_type": "code",
   "execution_count": 42,
   "metadata": {},
   "outputs": [],
   "source": [
    "renamedict = {'# Timestamp':\"timestamp\", 'MMSI':\"mmsi\", 'Latitude':\"lat\", 'Longitude':\"long\", 'Type of mobile':'type_of_mobile'}\n",
    "data = pd.read_csv('../workdir/aisdk-2023-11-08-xs.csv').rename(columns=renamedict).loc[:,list(renamedict.values())]\n",
    "data['timestamp'] = pd.to_datetime(data['timestamp'], format='%d/%m/%Y %H:%M:%S')\n",
    "# Nur Class A\n",
    "data = data[(data['type_of_mobile'] == \"Class A\") & (data['lat'] <= 90)].drop(columns=\"type_of_mobile\").copy()\n",
    "data.head()"
   ]
  },
  {
   "cell_type": "code",
   "execution_count": 43,
   "metadata": {},
   "outputs": [],
   "source": [
    "data.info()"
   ]
  },
  {
   "cell_type": "code",
   "execution_count": 44,
   "metadata": {},
   "outputs": [],
   "source": [
    "data.describe()"
   ]
  },
  {
   "cell_type": "code",
   "execution_count": 45,
   "metadata": {},
   "outputs": [],
   "source": [
    "print(f\"Anzahl Schiffe: {data['mmsi'].nunique()}\")\n",
    "pointspership = data.groupby('mmsi').size()\n",
    "print(pointspership.describe())"
   ]
  },
  {
   "cell_type": "code",
   "execution_count": 48,
   "metadata": {},
   "outputs": [],
   "source": [
    "shipagg = data.groupby('mmsi').agg(timerange=pd.NamedAgg(column=\"timestamp\", aggfunc=lambda col:col.max()-col.min()))\n",
    "shipagg.head()"
   ]
  },
  {
   "cell_type": "code",
   "execution_count": 23,
   "metadata": {},
   "outputs": [],
   "source": [
    "shipagg.loc[:, ('timestamp', 'min')]"
   ]
  },
  {
   "cell_type": "code",
   "execution_count": null,
   "metadata": {},
   "outputs": [],
   "source": []
  },
  {
   "cell_type": "code",
   "execution_count": 1,
   "metadata": {},
   "outputs": [],
   "source": [
    "import pandas as pd\n"
   ]
  },
  {
   "cell_type": "code",
   "execution_count": 26,
   "metadata": {},
   "outputs": [
    {
     "data": {
      "text/plain": [
       "Index(['# Timestamp', 'Type of mobile', 'MMSI', 'Latitude', 'Longitude',\n",
       "       'Navigational status', 'ROT', 'SOG', 'COG', 'Heading', 'IMO',\n",
       "       'Callsign', 'Name', 'Ship type', 'Cargo type', 'Width', 'Length',\n",
       "       'Type of position fixing device', 'Draught', 'Destination', 'ETA',\n",
       "       'Data source type', 'A', 'B', 'C', 'D'],\n",
       "      dtype='object')"
      ]
     },
     "execution_count": 26,
     "metadata": {},
     "output_type": "execute_result"
    }
   ],
   "source": [
    "pd.read_csv('../workdir/aisdk-2023-11-08-xs.csv').columns"
   ]
  },
  {
   "cell_type": "markdown",
   "metadata": {},
   "source": [
    "# Initial Data Analysis"
   ]
  },
  {
   "cell_type": "code",
   "execution_count": 42,
   "metadata": {},
   "outputs": [
    {
     "data": {
      "text/html": [
       "<div>\n",
       "<style scoped>\n",
       "    .dataframe tbody tr th:only-of-type {\n",
       "        vertical-align: middle;\n",
       "    }\n",
       "\n",
       "    .dataframe tbody tr th {\n",
       "        vertical-align: top;\n",
       "    }\n",
       "\n",
       "    .dataframe thead th {\n",
       "        text-align: right;\n",
       "    }\n",
       "</style>\n",
       "<table border=\"1\" class=\"dataframe\">\n",
       "  <thead>\n",
       "    <tr style=\"text-align: right;\">\n",
       "      <th></th>\n",
       "      <th>timestamp</th>\n",
       "      <th>mmsi</th>\n",
       "      <th>lat</th>\n",
       "      <th>long</th>\n",
       "    </tr>\n",
       "  </thead>\n",
       "  <tbody>\n",
       "    <tr>\n",
       "      <th>1</th>\n",
       "      <td>2023-11-08</td>\n",
       "      <td>257038590</td>\n",
       "      <td>57.125193</td>\n",
       "      <td>8.596375</td>\n",
       "    </tr>\n",
       "    <tr>\n",
       "      <th>2</th>\n",
       "      <td>2023-11-08</td>\n",
       "      <td>255806465</td>\n",
       "      <td>56.555510</td>\n",
       "      <td>11.041318</td>\n",
       "    </tr>\n",
       "    <tr>\n",
       "      <th>5</th>\n",
       "      <td>2023-11-08</td>\n",
       "      <td>219010207</td>\n",
       "      <td>57.592455</td>\n",
       "      <td>9.954670</td>\n",
       "    </tr>\n",
       "    <tr>\n",
       "      <th>6</th>\n",
       "      <td>2023-11-08</td>\n",
       "      <td>538008404</td>\n",
       "      <td>55.568373</td>\n",
       "      <td>15.120307</td>\n",
       "    </tr>\n",
       "    <tr>\n",
       "      <th>8</th>\n",
       "      <td>2023-11-08</td>\n",
       "      <td>249194000</td>\n",
       "      <td>55.024868</td>\n",
       "      <td>10.995142</td>\n",
       "    </tr>\n",
       "  </tbody>\n",
       "</table>\n",
       "</div>"
      ],
      "text/plain": [
       "   timestamp       mmsi        lat       long\n",
       "1 2023-11-08  257038590  57.125193   8.596375\n",
       "2 2023-11-08  255806465  56.555510  11.041318\n",
       "5 2023-11-08  219010207  57.592455   9.954670\n",
       "6 2023-11-08  538008404  55.568373  15.120307\n",
       "8 2023-11-08  249194000  55.024868  10.995142"
      ]
     },
     "execution_count": 42,
     "metadata": {},
     "output_type": "execute_result"
    }
   ],
   "source": [
    "renamedict = {'# Timestamp':\"timestamp\", 'MMSI':\"mmsi\", 'Latitude':\"lat\", 'Longitude':\"long\", 'Type of mobile':'type_of_mobile'}\n",
    "data = pd.read_csv('../workdir/aisdk-2023-11-08-xs.csv').rename(columns=renamedict).loc[:,list(renamedict.values())]\n",
    "data['timestamp'] = pd.to_datetime(data['timestamp'], format='%d/%m/%Y %H:%M:%S')\n",
    "# Nur Class A\n",
    "data = data[(data['type_of_mobile'] == \"Class A\") & (data['lat'] <= 90)].drop(columns=\"type_of_mobile\").copy()\n",
    "data.head()"
   ]
  },
  {
   "cell_type": "code",
   "execution_count": 43,
   "metadata": {},
   "outputs": [
    {
     "name": "stdout",
     "output_type": "stream",
     "text": [
      "<class 'pandas.core.frame.DataFrame'>\n",
      "Index: 2107146 entries, 1 to 2399998\n",
      "Data columns (total 4 columns):\n",
      " #   Column     Dtype         \n",
      "---  ------     -----         \n",
      " 0   timestamp  datetime64[ns]\n",
      " 1   mmsi       int64         \n",
      " 2   lat        float64       \n",
      " 3   long       float64       \n",
      "dtypes: datetime64[ns](1), float64(2), int64(1)\n",
      "memory usage: 80.4 MB\n"
     ]
    }
   ],
   "source": [
    "data.info()"
   ]
  },
  {
   "cell_type": "code",
   "execution_count": 44,
   "metadata": {},
   "outputs": [
    {
     "data": {
      "text/html": [
       "<div>\n",
       "<style scoped>\n",
       "    .dataframe tbody tr th:only-of-type {\n",
       "        vertical-align: middle;\n",
       "    }\n",
       "\n",
       "    .dataframe tbody tr th {\n",
       "        vertical-align: top;\n",
       "    }\n",
       "\n",
       "    .dataframe thead th {\n",
       "        text-align: right;\n",
       "    }\n",
       "</style>\n",
       "<table border=\"1\" class=\"dataframe\">\n",
       "  <thead>\n",
       "    <tr style=\"text-align: right;\">\n",
       "      <th></th>\n",
       "      <th>timestamp</th>\n",
       "      <th>mmsi</th>\n",
       "      <th>lat</th>\n",
       "      <th>long</th>\n",
       "    </tr>\n",
       "  </thead>\n",
       "  <tbody>\n",
       "    <tr>\n",
       "      <th>count</th>\n",
       "      <td>2107146</td>\n",
       "      <td>2.107146e+06</td>\n",
       "      <td>2.107146e+06</td>\n",
       "      <td>2.107146e+06</td>\n",
       "    </tr>\n",
       "    <tr>\n",
       "      <th>mean</th>\n",
       "      <td>2023-11-08 01:57:11.561989120</td>\n",
       "      <td>2.631102e+08</td>\n",
       "      <td>5.620319e+01</td>\n",
       "      <td>1.071427e+01</td>\n",
       "    </tr>\n",
       "    <tr>\n",
       "      <th>min</th>\n",
       "      <td>2023-11-08 00:00:00</td>\n",
       "      <td>2.190045e+06</td>\n",
       "      <td>5.682667e+00</td>\n",
       "      <td>3.210520e+00</td>\n",
       "    </tr>\n",
       "    <tr>\n",
       "      <th>25%</th>\n",
       "      <td>2023-11-08 00:58:08</td>\n",
       "      <td>2.190070e+08</td>\n",
       "      <td>5.533976e+01</td>\n",
       "      <td>9.473040e+00</td>\n",
       "    </tr>\n",
       "    <tr>\n",
       "      <th>50%</th>\n",
       "      <td>2023-11-08 01:57:07</td>\n",
       "      <td>2.198010e+08</td>\n",
       "      <td>5.615412e+01</td>\n",
       "      <td>1.092145e+01</td>\n",
       "    </tr>\n",
       "    <tr>\n",
       "      <th>75%</th>\n",
       "      <td>2023-11-08 02:56:26</td>\n",
       "      <td>2.579750e+08</td>\n",
       "      <td>5.712256e+01</td>\n",
       "      <td>1.184790e+01</td>\n",
       "    </tr>\n",
       "    <tr>\n",
       "      <th>max</th>\n",
       "      <td>2023-11-08 03:54:27</td>\n",
       "      <td>6.770641e+08</td>\n",
       "      <td>5.878294e+01</td>\n",
       "      <td>8.821972e+01</td>\n",
       "    </tr>\n",
       "    <tr>\n",
       "      <th>std</th>\n",
       "      <td>NaN</td>\n",
       "      <td>9.670375e+07</td>\n",
       "      <td>1.050174e+00</td>\n",
       "      <td>1.996182e+00</td>\n",
       "    </tr>\n",
       "  </tbody>\n",
       "</table>\n",
       "</div>"
      ],
      "text/plain": [
       "                           timestamp          mmsi           lat          long\n",
       "count                        2107146  2.107146e+06  2.107146e+06  2.107146e+06\n",
       "mean   2023-11-08 01:57:11.561989120  2.631102e+08  5.620319e+01  1.071427e+01\n",
       "min              2023-11-08 00:00:00  2.190045e+06  5.682667e+00  3.210520e+00\n",
       "25%              2023-11-08 00:58:08  2.190070e+08  5.533976e+01  9.473040e+00\n",
       "50%              2023-11-08 01:57:07  2.198010e+08  5.615412e+01  1.092145e+01\n",
       "75%              2023-11-08 02:56:26  2.579750e+08  5.712256e+01  1.184790e+01\n",
       "max              2023-11-08 03:54:27  6.770641e+08  5.878294e+01  8.821972e+01\n",
       "std                              NaN  9.670375e+07  1.050174e+00  1.996182e+00"
      ]
     },
     "execution_count": 44,
     "metadata": {},
     "output_type": "execute_result"
    }
   ],
   "source": [
    "data.describe()"
   ]
  },
  {
   "cell_type": "code",
   "execution_count": 45,
   "metadata": {},
   "outputs": [
    {
     "name": "stdout",
     "output_type": "stream",
     "text": [
      "Anzahl Schiffe: 1481\n",
      "count     1481.000000\n",
      "mean      1422.785955\n",
      "std       1536.696524\n",
      "min          1.000000\n",
      "25%        156.000000\n",
      "50%       1194.000000\n",
      "75%       2324.000000\n",
      "max      14776.000000\n",
      "dtype: float64\n"
     ]
    }
   ],
   "source": [
    "print(f\"Anzahl Schiffe: {data['mmsi'].nunique()}\")\n",
    "pointspership = data.groupby('mmsi').size()\n",
    "print(pointspership.describe())"
   ]
  },
  {
   "cell_type": "code",
   "execution_count": 48,
   "metadata": {},
   "outputs": [
    {
     "data": {
      "text/html": [
       "<div>\n",
       "<style scoped>\n",
       "    .dataframe tbody tr th:only-of-type {\n",
       "        vertical-align: middle;\n",
       "    }\n",
       "\n",
       "    .dataframe tbody tr th {\n",
       "        vertical-align: top;\n",
       "    }\n",
       "\n",
       "    .dataframe thead th {\n",
       "        text-align: right;\n",
       "    }\n",
       "</style>\n",
       "<table border=\"1\" class=\"dataframe\">\n",
       "  <thead>\n",
       "    <tr style=\"text-align: right;\">\n",
       "      <th></th>\n",
       "      <th>timerange</th>\n",
       "    </tr>\n",
       "    <tr>\n",
       "      <th>mmsi</th>\n",
       "      <th></th>\n",
       "    </tr>\n",
       "  </thead>\n",
       "  <tbody>\n",
       "    <tr>\n",
       "      <th>2190045</th>\n",
       "      <td>0 days 03:54:20</td>\n",
       "    </tr>\n",
       "    <tr>\n",
       "      <th>205192000</th>\n",
       "      <td>0 days 03:54:20</td>\n",
       "    </tr>\n",
       "    <tr>\n",
       "      <th>205198000</th>\n",
       "      <td>0 days 03:54:10</td>\n",
       "    </tr>\n",
       "    <tr>\n",
       "      <th>205246000</th>\n",
       "      <td>0 days 03:54:20</td>\n",
       "    </tr>\n",
       "    <tr>\n",
       "      <th>205322000</th>\n",
       "      <td>0 days 03:14:41</td>\n",
       "    </tr>\n",
       "  </tbody>\n",
       "</table>\n",
       "</div>"
      ],
      "text/plain": [
       "                timerange\n",
       "mmsi                     \n",
       "2190045   0 days 03:54:20\n",
       "205192000 0 days 03:54:20\n",
       "205198000 0 days 03:54:10\n",
       "205246000 0 days 03:54:20\n",
       "205322000 0 days 03:14:41"
      ]
     },
     "execution_count": 48,
     "metadata": {},
     "output_type": "execute_result"
    }
   ],
   "source": [
    "shipagg = data.groupby('mmsi').agg(timerange=pd.NamedAgg(column=\"timestamp\", aggfunc=lambda col:col.max()-col.min()))\n",
    "shipagg.head()"
   ]
  },
  {
   "cell_type": "code",
   "execution_count": 23,
   "metadata": {},
   "outputs": [
    {
     "ename": "NameError",
     "evalue": "name 'shipagg' is not defined",
     "output_type": "error",
     "traceback": [
      "\u001b[0;31m---------------------------------------------------------------------------\u001b[0m",
      "\u001b[0;31mNameError\u001b[0m                                 Traceback (most recent call last)",
      "Cell \u001b[0;32mIn[23], line 1\u001b[0m\n\u001b[0;32m----> 1\u001b[0m \u001b[43mshipagg\u001b[49m\u001b[38;5;241m.\u001b[39mloc[:, (\u001b[38;5;124m'\u001b[39m\u001b[38;5;124mtimestamp\u001b[39m\u001b[38;5;124m'\u001b[39m, \u001b[38;5;124m'\u001b[39m\u001b[38;5;124mmin\u001b[39m\u001b[38;5;124m'\u001b[39m)]\n",
      "\u001b[0;31mNameError\u001b[0m: name 'shipagg' is not defined"
     ]
    }
   ],
   "source": [
    "shipagg.loc[:, ('timestamp', 'min')]"
   ]
  },
  {
   "cell_type": "code",
   "execution_count": null,
   "metadata": {},
   "outputs": [],
   "source": []
  }
 ],
 "metadata": {
  "kernelspec": {
   "display_name": "venv",
   "language": "python",
   "name": "python3"
  },
  "language_info": {
   "codemirror_mode": {
    "name": "ipython",
    "version": 3
   },
   "file_extension": ".py",
   "mimetype": "text/x-python",
   "name": "python",
   "nbconvert_exporter": "python",
   "pygments_lexer": "ipython3",
   "version": "3.10.12"
  }
 },
 "nbformat": 4,
 "nbformat_minor": 2
}
