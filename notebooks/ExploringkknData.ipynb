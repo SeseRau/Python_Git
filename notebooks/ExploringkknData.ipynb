{
 "cells": [
  {
   "cell_type": "code",
   "execution_count": 288,
   "metadata": {},
   "outputs": [],
   "source": [
    "from joblib import Parallel, delayed\n",
    "\n",
    "def generate_row(df):\n",
    "    df = df.copy()\n",
    "    df[\"src\"] = \"output\"\n",
    "    df[\"time\"] = (df[\"time\"].max()-df[\"time\"]).dt.total_seconds()\n",
    "    df[\"x\"] = df[\"x\"] - df[\"x\"].iloc[0]\n",
    "    df[\"y\"] = df[\"y\"] - df[\"y\"].iloc[0]\n",
    "    df.iloc[:-1,-1] = \"input_\" + pd.Series(np.arange(df.shape[0]-1)).astype(str)\n",
    "    df=df.melt(id_vars=\"src\")\n",
    "    df[\"colname\"] = df.src + \"_\" + df.variable\n",
    "    df=df.drop(columns=[\"src\", \"variable\"]).set_index(\"colname\")\n",
    "    df=df.transpose().reset_index(drop=True)\n",
    "    df.columns.name = None\n",
    "    df=df.sort_index(axis=1).drop([\"output_time\"], axis=1)\n",
    "    return df\n",
    "\n",
    "def generate_model_frame(df, knowns):\n",
    "    window_size = knowns + 1\n",
    "    skipped_windows = 4\n",
    "\n",
    "    windows = df.reset_index(drop=True).groupby('track').rolling(window_size)\n",
    "    windows = (win for i, win in enumerate(windows) if len(win) == window_size and i % (skipped_windows + 1) == 0)\n",
    "    windows = list(windows)\n",
    "    res = Parallel(n_jobs=-1)(delayed(generate_row)(win) for win in tqdm(windows))\n",
    "    #res = (generate_row(win) for win in tqdm(windows))\n",
    "    return pd.concat(res, ignore_index=True)\n"
   ]
  },
  {
   "cell_type": "code",
   "execution_count": null,
   "metadata": {},
   "outputs": [],
   "source": [
    "from pathlib import Path\n",
    "targetrows_knowns = 3, 6, 9, 12\n",
    "for target in targetrows_knowns\n",
    "    path = f\"../workdir/AIS-ModelFrames/aisdk-2023-11-08-xs_2_kkn_train_{target}.csv\":\n",
    "    if not path.exists(path):         n_model = generate_model_frame(train, target)\n",
    "           t_model = generate_model_frame(test, target)\n",
    "          ain_model.to_csv(f\"index=False)\n",
    "         est_model.to_csv(f\"../workdir/AIS-ModelFrames/aisdk-2023-11-08-xs_2_kkn_test_{target}.csv\", index=False)\n",
    "        print(f\"Done with {target}\")\n",
    "    "
   ]
  },
  {
   "cell_type": "markdown",
   "metadata": {},
   "source": [
    "## Resample Idea (nicht weiter verfolgt)"
   ]
  },
  {
   "cell_type": "code",
   "execution_count": 113,
   "metadata": {},
   "outputs": [],
   "source": [
    "time_resample = \"10s\"\n",
    "resampled = example.resample(time_resample, level=\"time\").mean().interpolate(method=\"time\")\n",
    "resampled"
   ]
  },
  {
   "cell_type": "code",
   "execution_count": 114,
   "metadata": {},
   "outputs": [],
   "source": [
    "import matplotlib.pyplot as plt\n",
    "\n",
    "plt.figure(figsize=(10, 6))\n",
    "plt.plot(example['x'], example['y'], label='Example')\n",
    "plt.plot(resampled['x'], resampled['y'], label=f'Resampled {time_resample}')\n",
    "plt.xlabel('X')\n",
    "plt.ylabel('Y')\n",
    "plt.title('X and Y Coordinates Through Time')\n",
    "plt.legend()\n",
    "plt.show()"
   ]
  },
  {
   "cell_type": "code",
   "execution_count": 112,
   "metadata": {},
   "outputs": [],
   "source": [
    "example"
   ]
  },
  {
   "cell_type": "code",
   "execution_count": 124,
   "metadata": {},
   "outputs": [],
   "source": [
    "X_resampled = X.reset_index().drop(columns=[\"epoch_time\", \"degree\", \"distance\", \"timepoint\"]).set_index(['track','time','mmsi'])\n",
    "X_resampled = X_resampled.groupby([\"track\",\"mmsi\"]).apply(lambda df: df.resample(time_resample, level=\"time\").mean().interpolate(method=\"time\"))\n",
    "X_resampled.head()"
   ]
  },
  {
   "cell_type": "code",
   "execution_count": 126,
   "metadata": {},
   "outputs": [],
   "source": [
    "import gc\n",
    "gc.collect()"
   ]
  },
  {
   "cell_type": "code",
   "execution_count": 127,
   "metadata": {},
   "outputs": [],
   "source": [
    "X_resampled.groupby(\"track\").size().describe()"
   ]
  },
  {
   "cell_type": "markdown",
   "metadata": {},
   "source": [
    "Ziel: Bei Zeit 0\n",
    "\n",
    "Beispiele für 3:\n",
    "1. -5s, -10s, -15s:\n",
    "2. -5s, -10s, -20s:\n",
    "3. -30s, -60s, -61s:"
   ]
  },
  {
   "cell_type": "code",
   "execution_count": null,
   "metadata": {},
   "outputs": [],
   "source": [
    "target_y, target_x               , old5s_x, old5s_y, old10s_x, old10s_y"
   ]
  },
  {
   "cell_type": "code",
   "execution_count": null,
   "metadata": {},
   "outputs": [],
   "source": [
    "target_y, target_x,           old5s_x, old5s_y, old10s_x, old10s_y, old15s_x, old15s_y, old20s_x, old20s_y,"
   ]
  },
  {
   "cell_type": "code",
   "execution_count": null,
   "metadata": {},
   "outputs": [],
   "source": [
    "9 Eingänge\n",
    "8 hidden Neuron\n",
    "2 Ausgänge\n"
   ]
  },
  {
   "cell_type": "code",
   "execution_count": 278,
   "metadata": {},
   "outputs": [],
   "source": [
    "import pandas as pd\n",
    "import numpy as np\n",
    "import seaborn as sns\n",
    "from tqdm.auto import tqdm"
   ]
  },
  {
   "cell_type": "code",
   "execution_count": 279,
   "metadata": {},
   "outputs": [],
   "source": [
    "# https://pandas.pydata.org/docs/reference/api/pandas.read_csv.html\n",
    "data_in = pd.read_csv(\"../workdir/AIS-KNN-Files/aisdk-2023-11-08-xs_2_kkn.csv\", lineterminator=\"$\", header=None)"
   ]
  },
  {
   "cell_type": "markdown",
   "metadata": {},
   "source": [
    "# KKN Data Analysis"
   ]
  },
  {
   "cell_type": "code",
   "execution_count": 280,
   "metadata": {},
   "outputs": [],
   "source": [
    "# (bewegung, zeitpunkte, daten)\n",
    "resshaped = data_in.values.reshape((-1, 100, 6))\n",
    "# resshaped[0,0,:]\n",
    "# X,Y and Degree,Distance are the same only different coordinate systems\n",
    "# MMSI,Time,X,Y,Degree,Distance"
   ]
  },
  {
   "cell_type": "code",
   "execution_count": 281,
   "metadata": {},
   "outputs": [],
   "source": [
    "resshaped.shape"
   ]
  },
  {
   "cell_type": "code",
   "execution_count": 282,
   "metadata": {},
   "outputs": [],
   "source": [
    "resshaped.shape"
   ]
  },
  {
   "cell_type": "code",
   "execution_count": 283,
   "metadata": {},
   "outputs": [],
   "source": [
    "tracks = range(resshaped.shape[0])\n",
    "timepoints = range(resshaped.shape[1])\n",
    "columns = range(resshaped.shape[2])\n",
    "\n",
    "# stolen from https://github.com/sktime/sktime/blob/v0.11.4/sktime/datatypes/_panel/_convert.py#L608-L668\n",
    "index = pd.MultiIndex.from_product([tracks, timepoints, columns], names=['track', 'timepoint', 'column'])\n",
    "X = pd.Series(resshaped.flatten(), index=index)\n",
    "X = X.unstack(level='column')\n",
    "X.columns = ['mmsi', 'epoch_time', 'x', 'y', 'degree', 'distance']\n",
    "X['time'] = pd.to_datetime(X['epoch_time'], unit='s')"
   ]
  },
  {
   "cell_type": "code",
   "execution_count": 284,
   "metadata": {},
   "outputs": [],
   "source": [
    "# Time Ranges\n",
    "X.groupby('track')[\"time\"].diff().dt.total_seconds().describe()"
   ]
  },
  {
   "cell_type": "code",
   "execution_count": 285,
   "metadata": {},
   "outputs": [],
   "source": [
    "secs = X.groupby('track')[\"time\"].diff().dt.total_seconds()\n",
    "_ = sns.histplot(secs, binwidth=1)"
   ]
  },
  {
   "cell_type": "code",
   "execution_count": 286,
   "metadata": {},
   "outputs": [],
   "source": [
    "example = X.query(\"track == 0\").copy()\n",
    "example.time = example.time - example.time.min()\n",
    "example = example.reset_index().set_index(['track','time','mmsi']).drop(columns=[\"epoch_time\", \"degree\", \"distance\", \"timepoint\"])"
   ]
  },
  {
   "cell_type": "markdown",
   "metadata": {},
   "source": [
    "1. 3 Bekannte, 1 Ziel\n",
    "2. 6 Unbekannte, 1 Ziel\n",
    "3. 12 Unbekannte, 1 Ziel"
   ]
  },
  {
   "cell_type": "code",
   "execution_count": 287,
   "metadata": {},
   "outputs": [],
   "source": [
    "train_ships = pd.Series(X.mmsi.unique()).sample(frac=0.7, random_state=42)\n",
    "tosplit = X.reset_index().drop(columns=[\"epoch_time\", \"degree\", \"distance\", \"timepoint\"])\n",
    "train = tosplit.loc[tosplit.mmsi.isin(train_ships),:].drop(columns=[\"mmsi\"])\n",
    "test = tosplit.loc[~tosplit.mmsi.isin(train_ships),:].drop(columns=[\"mmsi\"])\n",
    "train.shape[0]/tosplit.shape[0]\n"
   ]
  }
 ],
 "metadata": {
  "kernelspec": {
   "display_name": "venv",
   "language": "python",
   "name": "python3"
  },
  "language_info": {
   "codemirror_mode": {
    "name": "ipython",
    "version": 3
   },
   "file_extension": ".py",
   "mimetype": "text/x-python",
   "name": "python",
   "nbconvert_exporter": "python",
   "pygments_lexer": "ipython3",
   "version": "3.10.12"
  }
 },
 "nbformat": 4,
 "nbformat_minor": 2
}
