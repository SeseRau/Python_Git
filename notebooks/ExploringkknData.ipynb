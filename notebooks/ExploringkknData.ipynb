{
 "cells": [
  {
   "cell_type": "code",
   "execution_count": 1,
   "metadata": {},
   "outputs": [],
   "source": [
    "import pandas as pd\n",
    "\n",
    "#filename = \"aisdk-2023-11-08-xs_2_kkn\"\n",
    "#filename = \"aisTestFile_500k_kkn\"\n",
    "filename = \"aisdk-2023-11-11_266288000_s_1_kkn_Step2b\"\n",
    "\n",
    "# data =  pd.read_csv(\"../workdir/AIS-KNN-Files/aisdk-2023-11-08-xs_2_kkn.csv\", lineterminator='$').values.reshape((-1,100,6))\n",
    "data =  pd.read_csv(\"../workdir/AIS-KNN-Files/\"+filename+\".csv\", lineterminator='$').values.reshape((-1,100,6))\n",
    "\n",
    "#data =  pd.read_csv(\"../workdir/AIS-KNN-Files/aisdk-2023-11-08-xs_2_kkn.csv\", lineterminator='$').values.reshape((-1,100,6))"
   ]
  },
  {
   "cell_type": "code",
   "execution_count": 2,
   "metadata": {},
   "outputs": [],
   "source": [
    "# https://github.com/sktime/sktime/blob/v0.11.4/sktime/datatypes/_panel/_convert.py#L608-L668\n",
    "multiindex = pd.MultiIndex.from_product([range(s) for s in data.shape], names=[\"track\", \"timeindex\", \"column\"])\n",
    "data = pd.Series(data.flatten(), index=multiindex).unstack(level=\"column\")\n",
    "data.columns = [\"mmsi\", \"time\", \"x\", \"y\", \"deg\", \"dist\"]\n",
    "data = data.drop(columns=[\"deg\", \"dist\"])\n",
    "data[\"time\"] = pd.to_datetime(data[\"time\"], unit=\"s\")\n",
    "# train_ships = pd.Series(data.mmsi.unique()).sample(frac=0.7, random_state=42)\n",
    "train_ships = pd.Series(data.mmsi.unique()).sample(frac=1, random_state=42)\n",
    "train = data[data.mmsi.isin(train_ships)].drop(columns=\"mmsi\")\n",
    "#test = data[~data.mmsi.isin(train_ships)].drop(columns=\"mmsi\")\n",
    "from joblib import Parallel, delayed"
   ]
  },
  {
   "cell_type": "code",
   "execution_count": 3,
   "metadata": {},
   "outputs": [
    {
     "data": {
      "text/html": [
       "<div>\n",
       "<style scoped>\n",
       "    .dataframe tbody tr th:only-of-type {\n",
       "        vertical-align: middle;\n",
       "    }\n",
       "\n",
       "    .dataframe tbody tr th {\n",
       "        vertical-align: top;\n",
       "    }\n",
       "\n",
       "    .dataframe thead th {\n",
       "        text-align: right;\n",
       "    }\n",
       "</style>\n",
       "<table border=\"1\" class=\"dataframe\">\n",
       "  <thead>\n",
       "    <tr style=\"text-align: right;\">\n",
       "      <th></th>\n",
       "      <th></th>\n",
       "      <th>time</th>\n",
       "      <th>x</th>\n",
       "      <th>y</th>\n",
       "    </tr>\n",
       "    <tr>\n",
       "      <th>track</th>\n",
       "      <th>timeindex</th>\n",
       "      <th></th>\n",
       "      <th></th>\n",
       "      <th></th>\n",
       "    </tr>\n",
       "  </thead>\n",
       "  <tbody>\n",
       "    <tr>\n",
       "      <th rowspan=\"11\" valign=\"top\">0</th>\n",
       "      <th>0</th>\n",
       "      <td>2023-11-11 08:57:09</td>\n",
       "      <td>6.191310e+06</td>\n",
       "      <td>-134.938030</td>\n",
       "    </tr>\n",
       "    <tr>\n",
       "      <th>1</th>\n",
       "      <td>2023-11-11 08:57:13</td>\n",
       "      <td>6.191307e+06</td>\n",
       "      <td>-128.337386</td>\n",
       "    </tr>\n",
       "    <tr>\n",
       "      <th>2</th>\n",
       "      <td>2023-11-11 08:57:16</td>\n",
       "      <td>6.191305e+06</td>\n",
       "      <td>-125.131357</td>\n",
       "    </tr>\n",
       "    <tr>\n",
       "      <th>3</th>\n",
       "      <td>2023-11-11 08:57:19</td>\n",
       "      <td>6.191302e+06</td>\n",
       "      <td>-118.845010</td>\n",
       "    </tr>\n",
       "    <tr>\n",
       "      <th>4</th>\n",
       "      <td>2023-11-11 08:57:21</td>\n",
       "      <td>6.191301e+06</td>\n",
       "      <td>-115.576104</td>\n",
       "    </tr>\n",
       "    <tr>\n",
       "      <th>...</th>\n",
       "      <td>...</td>\n",
       "      <td>...</td>\n",
       "      <td>...</td>\n",
       "    </tr>\n",
       "    <tr>\n",
       "      <th>95</th>\n",
       "      <td>2023-11-11 09:03:16</td>\n",
       "      <td>6.191178e+06</td>\n",
       "      <td>129.284182</td>\n",
       "    </tr>\n",
       "    <tr>\n",
       "      <th>96</th>\n",
       "      <td>2023-11-11 09:03:19</td>\n",
       "      <td>6.191177e+06</td>\n",
       "      <td>129.472797</td>\n",
       "    </tr>\n",
       "    <tr>\n",
       "      <th>97</th>\n",
       "      <td>2023-11-11 09:03:22</td>\n",
       "      <td>6.191177e+06</td>\n",
       "      <td>129.472803</td>\n",
       "    </tr>\n",
       "    <tr>\n",
       "      <th>98</th>\n",
       "      <td>2023-11-11 09:03:25</td>\n",
       "      <td>6.191176e+06</td>\n",
       "      <td>129.472823</td>\n",
       "    </tr>\n",
       "    <tr>\n",
       "      <th>99</th>\n",
       "      <td>2023-11-11 09:03:29</td>\n",
       "      <td>6.191176e+06</td>\n",
       "      <td>129.598568</td>\n",
       "    </tr>\n",
       "  </tbody>\n",
       "</table>\n",
       "<p>100 rows × 3 columns</p>\n",
       "</div>"
      ],
      "text/plain": [
       "                               time             x           y\n",
       "track timeindex                                              \n",
       "0     0         2023-11-11 08:57:09  6.191310e+06 -134.938030\n",
       "      1         2023-11-11 08:57:13  6.191307e+06 -128.337386\n",
       "      2         2023-11-11 08:57:16  6.191305e+06 -125.131357\n",
       "      3         2023-11-11 08:57:19  6.191302e+06 -118.845010\n",
       "      4         2023-11-11 08:57:21  6.191301e+06 -115.576104\n",
       "...                             ...           ...         ...\n",
       "      95        2023-11-11 09:03:16  6.191178e+06  129.284182\n",
       "      96        2023-11-11 09:03:19  6.191177e+06  129.472797\n",
       "      97        2023-11-11 09:03:22  6.191177e+06  129.472803\n",
       "      98        2023-11-11 09:03:25  6.191176e+06  129.472823\n",
       "      99        2023-11-11 09:03:29  6.191176e+06  129.598568\n",
       "\n",
       "[100 rows x 3 columns]"
      ]
     },
     "execution_count": 3,
     "metadata": {},
     "output_type": "execute_result"
    }
   ],
   "source": [
    "train.head(200)"
   ]
  },
  {
   "cell_type": "code",
   "execution_count": 4,
   "metadata": {},
   "outputs": [],
   "source": [
    "from joblib import Parallel, delayed\n",
    "from tqdm import tqdm\n",
    "import numpy as np\n",
    "\n",
    "def generate_row(df):\n",
    "    df = df.copy()\n",
    "    df[\"src\"] = \"output\"\n",
    "    df[\"time\"] = (df[\"time\"].max()-df[\"time\"]).dt.total_seconds()\n",
    "    df[\"x\"] = df[\"x\"] - df[\"x\"].iloc[0]\n",
    "    df[\"y\"] = df[\"y\"] - df[\"y\"].iloc[0]\n",
    "    # df['deltaX'] = pd.Series(df[\"x\"].iloc[0], index=df.index)\n",
    "    # df['deltaY'] = pd.Series(df[\"y\"].iloc[0], index=df.index)\n",
    "    # df['deltaTime'] = pd.Series(test[\"time\"].max(), index=df.index)\n",
    "    df.iloc[:-1,-1] = \"input_\" + pd.Series(np.arange(df.shape[0]-1)).astype(str)\n",
    "    df=df.melt(id_vars=\"src\")\n",
    "    df[\"colname\"] = df.src + \"_\" + df.variable\n",
    "    df=df.drop(columns=[\"src\", \"variable\"]).set_index(\"colname\")\n",
    "    #df=df.drop(columns=[\"timeindex\"]).set_index(\"colname\")\n",
    "    df=df.transpose().reset_index(drop=True)\n",
    "    df.columns.name = None\n",
    "    df=df.sort_index(axis=1).drop([\"output_time\"], axis=1)\n",
    "    df=df.loc[:, ~df.columns.to_series().str.endswith('index')]\n",
    "    #df=df.drop(columns.to_series().str.ends_with('index'))\n",
    "\n",
    "    return df\n",
    "\n",
    "def generate_model_frame(df, knowns):\n",
    "    window_size = knowns + 1\n",
    "    skipped_windows = 4\n",
    "\n",
    "    windows = df.reset_index(drop=False).groupby('track').rolling(window_size)\n",
    "    windows = (win for i, win in enumerate(windows) if len(win) == window_size and i % (skipped_windows + 1) == 0)\n",
    "    windows = list(windows)\n",
    "    res = Parallel(n_jobs=-1)(delayed(generate_row)(win) for win in tqdm(windows))\n",
    "    #res = (generate_row(win) for win in tqdm(windows))\n",
    "    return pd.concat(res, ignore_index=True)\n"
   ]
  },
  {
   "cell_type": "code",
   "execution_count": 5,
   "metadata": {},
   "outputs": [
    {
     "name": "stderr",
     "output_type": "stream",
     "text": [
      "  0%|          | 0/19 [00:00<?, ?it/s]"
     ]
    },
    {
     "name": "stderr",
     "output_type": "stream",
     "text": [
      "100%|██████████| 19/19 [00:03<00:00,  5.90it/s]\n"
     ]
    },
    {
     "name": "stdout",
     "output_type": "stream",
     "text": [
      "Done with 3\n"
     ]
    },
    {
     "name": "stderr",
     "output_type": "stream",
     "text": [
      "100%|██████████| 18/18 [00:00<00:00, 194.48it/s]"
     ]
    },
    {
     "name": "stdout",
     "output_type": "stream",
     "text": [
      "Done with 6"
     ]
    },
    {
     "name": "stderr",
     "output_type": "stream",
     "text": [
      "\n"
     ]
    },
    {
     "name": "stdout",
     "output_type": "stream",
     "text": [
      "\n"
     ]
    },
    {
     "name": "stderr",
     "output_type": "stream",
     "text": [
      "100%|██████████| 18/18 [00:00<00:00, 217.01it/s]\n"
     ]
    },
    {
     "name": "stdout",
     "output_type": "stream",
     "text": [
      "Done with 9\n"
     ]
    },
    {
     "name": "stderr",
     "output_type": "stream",
     "text": [
      "100%|██████████| 17/17 [00:00<00:00, 190.25it/s]"
     ]
    },
    {
     "name": "stdout",
     "output_type": "stream",
     "text": [
      "Done with 12\n"
     ]
    },
    {
     "name": "stderr",
     "output_type": "stream",
     "text": [
      "\n"
     ]
    }
   ],
   "source": [
    "from pathlib import Path\n",
    "targetrows_knowns = 3, 6, 9, 12\n",
    "for target in targetrows_knowns:\n",
    "    path = Path(f\"../workdir/AIS-ModelFrames/{filename}_train_{target}_{0}.csv\")\n",
    "    if not path.exists():     \n",
    "        train_model = generate_model_frame(train, target)\n",
    "        #test_model = generate_model_frame(test, target)\n",
    "        train_model.to_csv(path, index=False)\n",
    "        #test_model.to_csv(f\"../workdir/AIS-ModelFrames/{filename}_test_{target}_{0}.csv\", index=False)\n",
    "        print(f\"Done with {target}\")"
   ]
  },
  {
   "cell_type": "code",
   "execution_count": 7,
   "metadata": {},
   "outputs": [
    {
     "ename": "NameError",
     "evalue": "name 'test' is not defined",
     "output_type": "error",
     "traceback": [
      "\u001b[1;31m---------------------------------------------------------------------------\u001b[0m",
      "\u001b[1;31mNameError\u001b[0m                                 Traceback (most recent call last)",
      "Cell \u001b[1;32mIn[7], line 5\u001b[0m\n\u001b[0;32m      2\u001b[0m \u001b[38;5;28;01mfrom\u001b[39;00m \u001b[38;5;21;01mtqdm\u001b[39;00m \u001b[38;5;28;01mimport\u001b[39;00m tqdm\n\u001b[0;32m      3\u001b[0m \u001b[38;5;28;01mimport\u001b[39;00m \u001b[38;5;21;01mnumpy\u001b[39;00m \u001b[38;5;28;01mas\u001b[39;00m \u001b[38;5;21;01mnp\u001b[39;00m\n\u001b[1;32m----> 5\u001b[0m test \u001b[38;5;241m=\u001b[39m \u001b[43mtest\u001b[49m\u001b[38;5;241m.\u001b[39mcopy()\n\u001b[0;32m      6\u001b[0m test[\u001b[38;5;124m\"\u001b[39m\u001b[38;5;124msrc\u001b[39m\u001b[38;5;124m\"\u001b[39m] \u001b[38;5;241m=\u001b[39m \u001b[38;5;124m\"\u001b[39m\u001b[38;5;124moutput\u001b[39m\u001b[38;5;124m\"\u001b[39m\n\u001b[0;32m      7\u001b[0m test[\u001b[38;5;124m\"\u001b[39m\u001b[38;5;124mtime\u001b[39m\u001b[38;5;124m\"\u001b[39m] \u001b[38;5;241m=\u001b[39m (test[\u001b[38;5;124m\"\u001b[39m\u001b[38;5;124mtime\u001b[39m\u001b[38;5;124m\"\u001b[39m]\u001b[38;5;241m.\u001b[39mmax()\u001b[38;5;241m-\u001b[39mtest[\u001b[38;5;124m\"\u001b[39m\u001b[38;5;124mtime\u001b[39m\u001b[38;5;124m\"\u001b[39m])\u001b[38;5;241m.\u001b[39mdt\u001b[38;5;241m.\u001b[39mtotal_seconds()\n",
      "\u001b[1;31mNameError\u001b[0m: name 'test' is not defined"
     ]
    }
   ],
   "source": [
    "from joblib import Parallel, delayed\n",
    "from tqdm import tqdm\n",
    "import numpy as np\n",
    "\n",
    "test = test.copy()\n",
    "test[\"src\"] = \"output\"\n",
    "test[\"time\"] = (test[\"time\"].max()-test[\"time\"]).dt.total_seconds()\n",
    "test['e'] = pd.Series((test[\"time\"].max()) , index=test.index)\n",
    "test.head(100)"
   ]
  },
  {
   "cell_type": "markdown",
   "metadata": {},
   "source": [
    "## Resample Idea (nicht weiter verfolgt)"
   ]
  },
  {
   "cell_type": "code",
   "execution_count": 7,
   "metadata": {},
   "outputs": [
    {
     "ename": "NameError",
     "evalue": "name 'example' is not defined",
     "output_type": "error",
     "traceback": [
      "\u001b[1;31m---------------------------------------------------------------------------\u001b[0m",
      "\u001b[1;31mNameError\u001b[0m                                 Traceback (most recent call last)",
      "Cell \u001b[1;32mIn[7], line 2\u001b[0m\n\u001b[0;32m      1\u001b[0m time_resample \u001b[38;5;241m=\u001b[39m \u001b[38;5;124m\"\u001b[39m\u001b[38;5;124m10s\u001b[39m\u001b[38;5;124m\"\u001b[39m\n\u001b[1;32m----> 2\u001b[0m resampled \u001b[38;5;241m=\u001b[39m \u001b[43mexample\u001b[49m\u001b[38;5;241m.\u001b[39mresample(time_resample, level\u001b[38;5;241m=\u001b[39m\u001b[38;5;124m\"\u001b[39m\u001b[38;5;124mtime\u001b[39m\u001b[38;5;124m\"\u001b[39m)\u001b[38;5;241m.\u001b[39mmean()\u001b[38;5;241m.\u001b[39minterpolate(method\u001b[38;5;241m=\u001b[39m\u001b[38;5;124m\"\u001b[39m\u001b[38;5;124mtime\u001b[39m\u001b[38;5;124m\"\u001b[39m)\n\u001b[0;32m      3\u001b[0m resampled\n",
      "\u001b[1;31mNameError\u001b[0m: name 'example' is not defined"
     ]
    }
   ],
   "source": [
    "time_resample = \"10s\"\n",
    "resampled = example.resample(time_resample, level=\"time\").mean().interpolate(method=\"time\")\n",
    "resampled"
   ]
  },
  {
   "cell_type": "code",
   "execution_count": 114,
   "metadata": {},
   "outputs": [],
   "source": [
    "import matplotlib.pyplot as plt\n",
    "\n",
    "plt.figure(figsize=(10, 6))\n",
    "plt.plot(example['x'], example['y'], label='Example')\n",
    "plt.plot(resampled['x'], resampled['y'], label=f'Resampled {time_resample}')\n",
    "plt.xlabel('X')\n",
    "plt.ylabel('Y')\n",
    "plt.title('X and Y Coordinates Through Time')\n",
    "plt.legend()\n",
    "plt.show()"
   ]
  },
  {
   "cell_type": "code",
   "execution_count": 112,
   "metadata": {},
   "outputs": [],
   "source": [
    "example"
   ]
  },
  {
   "cell_type": "code",
   "execution_count": 124,
   "metadata": {},
   "outputs": [],
   "source": [
    "X_resampled = X.reset_index().drop(columns=[\"epoch_time\", \"degree\", \"distance\", \"timepoint\"]).set_index(['track','time','mmsi'])\n",
    "X_resampled = X_resampled.groupby([\"track\",\"mmsi\"]).apply(lambda df: df.resample(time_resample, level=\"time\").mean().interpolate(method=\"time\"))\n",
    "X_resampled.head()"
   ]
  },
  {
   "cell_type": "code",
   "execution_count": 126,
   "metadata": {},
   "outputs": [],
   "source": [
    "import gc\n",
    "gc.collect()"
   ]
  },
  {
   "cell_type": "code",
   "execution_count": 127,
   "metadata": {},
   "outputs": [],
   "source": [
    "X_resampled.groupby(\"track\").size().describe()"
   ]
  },
  {
   "cell_type": "markdown",
   "metadata": {},
   "source": [
    "Ziel: Bei Zeit 0\n",
    "\n",
    "Beispiele für 3:\n",
    "1. -5s, -10s, -15s:\n",
    "2. -5s, -10s, -20s:\n",
    "3. -30s, -60s, -61s:"
   ]
  },
  {
   "cell_type": "code",
   "execution_count": null,
   "metadata": {},
   "outputs": [],
   "source": [
    "target_y, target_x               , old5s_x, old5s_y, old10s_x, old10s_y"
   ]
  },
  {
   "cell_type": "code",
   "execution_count": null,
   "metadata": {},
   "outputs": [],
   "source": [
    "target_y, target_x,           old5s_x, old5s_y, old10s_x, old10s_y, old15s_x, old15s_y, old20s_x, old20s_y,"
   ]
  },
  {
   "cell_type": "code",
   "execution_count": null,
   "metadata": {},
   "outputs": [],
   "source": [
    "9 Eingänge\n",
    "8 hidden Neuron\n",
    "2 Ausgänge\n"
   ]
  },
  {
   "cell_type": "code",
   "execution_count": 278,
   "metadata": {},
   "outputs": [],
   "source": [
    "import pandas as pd\n",
    "import numpy as np\n",
    "import seaborn as sns\n",
    "from tqdm.auto import tqdm"
   ]
  },
  {
   "cell_type": "code",
   "execution_count": 279,
   "metadata": {},
   "outputs": [],
   "source": [
    "# https://pandas.pydata.org/docs/reference/api/pandas.read_csv.html\n",
    "data_in = pd.read_csv(\"../workdir/AIS-KNN-Files/aisdk-2023-11-08-xs_2_kkn.csv\", lineterminator=\"$\", header=None)"
   ]
  },
  {
   "cell_type": "markdown",
   "metadata": {},
   "source": [
    "# KKN Data Analysis"
   ]
  },
  {
   "cell_type": "code",
   "execution_count": 280,
   "metadata": {},
   "outputs": [],
   "source": [
    "# (bewegung, zeitpunkte, daten)\n",
    "resshaped = data_in.values.reshape((-1, 100, 6))\n",
    "# resshaped[0,0,:]\n",
    "# X,Y and Degree,Distance are the same only different coordinate systems\n",
    "# MMSI,Time,X,Y,Degree,Distance"
   ]
  },
  {
   "cell_type": "code",
   "execution_count": 281,
   "metadata": {},
   "outputs": [],
   "source": [
    "resshaped.shape"
   ]
  },
  {
   "cell_type": "code",
   "execution_count": 282,
   "metadata": {},
   "outputs": [],
   "source": [
    "resshaped.shape"
   ]
  },
  {
   "cell_type": "code",
   "execution_count": 283,
   "metadata": {},
   "outputs": [],
   "source": [
    "tracks = range(resshaped.shape[0])\n",
    "timepoints = range(resshaped.shape[1])\n",
    "columns = range(resshaped.shape[2])\n",
    "\n",
    "# stolen from https://github.com/sktime/sktime/blob/v0.11.4/sktime/datatypes/_panel/_convert.py#L608-L668\n",
    "index = pd.MultiIndex.from_product([tracks, timepoints, columns], names=['track', 'timepoint', 'column'])\n",
    "X = pd.Series(resshaped.flatten(), index=index)\n",
    "X = X.unstack(level='column')\n",
    "X.columns = ['mmsi', 'epoch_time', 'x', 'y', 'degree', 'distance']\n",
    "X['time'] = pd.to_datetime(X['epoch_time'], unit='s')"
   ]
  },
  {
   "cell_type": "code",
   "execution_count": 284,
   "metadata": {},
   "outputs": [],
   "source": [
    "# Time Ranges\n",
    "X.groupby('track')[\"time\"].diff().dt.total_seconds().describe()"
   ]
  },
  {
   "cell_type": "code",
   "execution_count": 285,
   "metadata": {},
   "outputs": [],
   "source": [
    "secs = X.groupby('track')[\"time\"].diff().dt.total_seconds()\n",
    "_ = sns.histplot(secs, binwidth=1)"
   ]
  },
  {
   "cell_type": "code",
   "execution_count": 286,
   "metadata": {},
   "outputs": [],
   "source": [
    "example = X.query(\"track == 0\").copy()\n",
    "example.time = example.time - example.time.min()\n",
    "example = example.reset_index().set_index(['track','time','mmsi']).drop(columns=[\"epoch_time\", \"degree\", \"distance\", \"timepoint\"])"
   ]
  },
  {
   "cell_type": "markdown",
   "metadata": {},
   "source": [
    "1. 3 Bekannte, 1 Ziel\n",
    "2. 6 Unbekannte, 1 Ziel\n",
    "3. 12 Unbekannte, 1 Ziel"
   ]
  }
 ],
 "metadata": {
  "kernelspec": {
   "display_name": "venv",
   "language": "python",
   "name": "python3"
  },
  "language_info": {
   "codemirror_mode": {
    "name": "ipython",
    "version": 3
   },
   "file_extension": ".py",
   "mimetype": "text/x-python",
   "name": "python",
   "nbconvert_exporter": "python",
   "pygments_lexer": "ipython3",
   "version": "3.9.13"
  }
 },
 "nbformat": 4,
 "nbformat_minor": 2
}
